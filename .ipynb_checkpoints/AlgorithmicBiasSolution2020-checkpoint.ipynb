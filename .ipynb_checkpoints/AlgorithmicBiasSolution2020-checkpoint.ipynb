{
 "cells": [
  {
   "cell_type": "markdown",
   "metadata": {},
   "source": [
    "# Algorithmic Bias - Full Solution\n",
    "\n",
    "1. Load the Survival  dataset using the code in AlgorithmBiasCore and assess the bias of classifiers trained on this dataset, i.e. are classifiers biased towards the majority class? Consider k-NN, Decision Trees, Logistic Regression and Naive Bayes in your assessment. Test for bias using hold-out testing and cross-validation. \n",
    "2. Propose a strategy to rectify this bias. Evaluate the effect of this strategy in terms of classification bias and overall accuracy. You may choose to work with hold-out testing only for this evaluation. Discuss the effectiveness of the strategy. \n",
    "3. Test the impact of this strategy on another dataset of your choice. Discuss the effectiveness of the strategy on this second dataset.  \n",
    "\n"
   ]
  },
  {
   "cell_type": "markdown",
   "metadata": {},
   "source": [
    "## Q1\n",
    "\n",
    "<span style=\"color:blue\">\n",
    "Load the Survival dataset using the code in AlgorithmBiasCore and assess the bias of classifiers trained on this dataset, i.e. are classifiers biased towards the majority class? Consider k-NN, Decision Trees, Logistic Regression and Naive Bayes in your assessment. Test for bias using hold-out testing and cross-validation. \n",
    "</span>\n",
    "\n",
    "In the following analysis we compare:\n",
    "- counts of predictions of the minority class \n",
    "- actual counts of the minority class in the test set.  \n",
    "\n",
    "If the predicted count is less than the actual this is evidence of bias.  \n",
    "This is completely independent of the classifier accuracy.  \n"
   ]
  },
  {
   "cell_type": "code",
   "execution_count": 1,
   "metadata": {},
   "outputs": [
    {
     "data": {
      "text/html": [
       "<div>\n",
       "<style scoped>\n",
       "    .dataframe tbody tr th:only-of-type {\n",
       "        vertical-align: middle;\n",
       "    }\n",
       "\n",
       "    .dataframe tbody tr th {\n",
       "        vertical-align: top;\n",
       "    }\n",
       "\n",
       "    .dataframe thead th {\n",
       "        text-align: right;\n",
       "    }\n",
       "</style>\n",
       "<table border=\"1\" class=\"dataframe\">\n",
       "  <thead>\n",
       "    <tr style=\"text-align: right;\">\n",
       "      <th></th>\n",
       "      <th>Age</th>\n",
       "      <th>Year</th>\n",
       "      <th>NNodes</th>\n",
       "      <th>Class</th>\n",
       "      <th>Survived</th>\n",
       "    </tr>\n",
       "  </thead>\n",
       "  <tbody>\n",
       "    <tr>\n",
       "      <th>0</th>\n",
       "      <td>30</td>\n",
       "      <td>64</td>\n",
       "      <td>1</td>\n",
       "      <td>1</td>\n",
       "      <td>GE5</td>\n",
       "    </tr>\n",
       "    <tr>\n",
       "      <th>1</th>\n",
       "      <td>30</td>\n",
       "      <td>62</td>\n",
       "      <td>3</td>\n",
       "      <td>1</td>\n",
       "      <td>GE5</td>\n",
       "    </tr>\n",
       "    <tr>\n",
       "      <th>2</th>\n",
       "      <td>30</td>\n",
       "      <td>65</td>\n",
       "      <td>0</td>\n",
       "      <td>1</td>\n",
       "      <td>GE5</td>\n",
       "    </tr>\n",
       "    <tr>\n",
       "      <th>3</th>\n",
       "      <td>31</td>\n",
       "      <td>59</td>\n",
       "      <td>2</td>\n",
       "      <td>1</td>\n",
       "      <td>GE5</td>\n",
       "    </tr>\n",
       "    <tr>\n",
       "      <th>4</th>\n",
       "      <td>31</td>\n",
       "      <td>65</td>\n",
       "      <td>4</td>\n",
       "      <td>1</td>\n",
       "      <td>GE5</td>\n",
       "    </tr>\n",
       "  </tbody>\n",
       "</table>\n",
       "</div>"
      ],
      "text/plain": [
       "   Age  Year  NNodes  Class Survived\n",
       "0   30    64       1      1      GE5\n",
       "1   30    62       3      1      GE5\n",
       "2   30    65       0      1      GE5\n",
       "3   31    59       2      1      GE5\n",
       "4   31    65       4      1      GE5"
      ]
     },
     "execution_count": 1,
     "metadata": {},
     "output_type": "execute_result"
    }
   ],
   "source": [
    "import numpy as np\n",
    "import pandas as pd\n",
    "from collections import Counter\n",
    "surv = pd.read_csv('survival.csv')\n",
    "surv['Survived'] = 'GE5'\n",
    "surv.loc[surv['Class']==2,'Survived']='L5'\n",
    "surv.head()"
   ]
  },
  {
   "cell_type": "code",
   "execution_count": 2,
   "metadata": {},
   "outputs": [
    {
     "data": {
      "text/plain": [
       "GE5    225\n",
       "L5      81\n",
       "Name: Survived, dtype: int64"
      ]
     },
     "execution_count": 2,
     "metadata": {},
     "output_type": "execute_result"
    }
   ],
   "source": [
    "surv['Survived'].value_counts() "
   ]
  },
  {
   "cell_type": "code",
   "execution_count": 3,
   "metadata": {},
   "outputs": [
    {
     "data": {
      "text/plain": [
       "((306, 3), (306,))"
      ]
     },
     "execution_count": 3,
     "metadata": {},
     "output_type": "execute_result"
    }
   ],
   "source": [
    "y = surv.pop('Survived').values\n",
    "surv.pop('Class')\n",
    "X = surv.values\n",
    "X.shape, y.shape"
   ]
  },
  {
   "cell_type": "code",
   "execution_count": 4,
   "metadata": {},
   "outputs": [
    {
     "name": "stdout",
     "output_type": "stream",
     "text": [
      "Minority class : 0.26\n"
     ]
    }
   ],
   "source": [
    "print(\"Minority class : %0.2f\" % (Counter(y)['L5']/len(y)))"
   ]
  },
  {
   "cell_type": "code",
   "execution_count": 5,
   "metadata": {},
   "outputs": [
    {
     "data": {
      "text/plain": [
       "((306, 3), (306,))"
      ]
     },
     "execution_count": 5,
     "metadata": {},
     "output_type": "execute_result"
    }
   ],
   "source": [
    "from sklearn.utils import shuffle\n",
    "X, y = shuffle(X, y, random_state=1)\n",
    "X.shape, y.shape"
   ]
  },
  {
   "cell_type": "markdown",
   "metadata": {},
   "source": [
    "## Models"
   ]
  },
  {
   "cell_type": "code",
   "execution_count": 6,
   "metadata": {},
   "outputs": [],
   "source": [
    "from sklearn.naive_bayes import MultinomialNB\n",
    "from sklearn.neighbors import KNeighborsClassifier\n",
    "from sklearn.tree import DecisionTreeClassifier\n",
    "from sklearn.linear_model import LogisticRegression\n",
    "\n",
    "from sklearn.metrics import confusion_matrix, accuracy_score\n",
    "from sklearn.model_selection import train_test_split\n",
    "\n",
    "model_d = {}\n",
    "\n",
    "model_d['dtree'] = DecisionTreeClassifier(criterion='entropy')\n",
    "model_d['kNN'] = KNeighborsClassifier(n_neighbors=3)  \n",
    "model_d['mnb'] = MultinomialNB()\n",
    "model_d['logistic'] = LogisticRegression(max_iter=10000, solver = 'sag', random_state=0)\n"
   ]
  },
  {
   "cell_type": "markdown",
   "metadata": {},
   "source": [
    "## Hold-Out Testing"
   ]
  },
  {
   "cell_type": "code",
   "execution_count": 7,
   "metadata": {
    "scrolled": false
   },
   "outputs": [
    {
     "name": "stdout",
     "output_type": "stream",
     "text": [
      "Minority in training set : 59\n",
      "Minority in test set : 22\n",
      "DecisionTreeClassifier Pred. Malignant: 18 Accuracy: 0.66\n",
      "KNeighborsClassifier   Pred. Malignant: 11 Accuracy: 0.70\n",
      "MultinomialNB          Pred. Malignant: 15 Accuracy: 0.70\n",
      "LogisticRegression     Pred. Malignant: 4 Accuracy: 0.69\n"
     ]
    }
   ],
   "source": [
    "X_train, X_test, y_train, y_test = train_test_split(X, y, random_state=0)\n",
    "bias_d = {}\n",
    "acc_bl = {}\n",
    "\n",
    "print(\"Minority in training set : %d\" % (Counter(y_train)['L5']))\n",
    "print(\"Minority in test set : %d\" % (Counter(y_test)['L5']))\n",
    "\n",
    "for m in model_d:\n",
    "    y_pred = model_d[m].fit(X_train, y_train).predict(X_test)\n",
    "    pred_count = Counter(y_pred)['L5']\n",
    "    bias_d[m] = pred_count\n",
    "    acc = accuracy_score(y_test, y_pred)\n",
    "    acc_bl[m] = acc\n",
    "\n",
    "    print(\"{:22} Pred. Malignant: {:d} Accuracy: {:.2f}\".format(type(model_d[m]).__name__, \n",
    "                                                                pred_count,acc))\n"
   ]
  },
  {
   "cell_type": "code",
   "execution_count": 8,
   "metadata": {},
   "outputs": [
    {
     "data": {
      "text/plain": [
       "0.2857142857142857"
      ]
     },
     "execution_count": 8,
     "metadata": {},
     "output_type": "execute_result"
    }
   ],
   "source": [
    "(Counter(y_test)['L5']/len(y_test))"
   ]
  },
  {
   "cell_type": "code",
   "execution_count": 9,
   "metadata": {
    "scrolled": false
   },
   "outputs": [
    {
     "data": {
      "image/png": "[encoded data removed]",
      "text/plain": [
       "<Figure size 432x288 with 1 Axes>"
      ]
     },
     "metadata": {
      "needs_background": "light"
     },
     "output_type": "display_data"
    }
   ],
   "source": [
    "import matplotlib.pyplot as plt \n",
    "import numpy as np\n",
    "%matplotlib inline \n",
    "\n",
    "# Add the prior figures to the data for plotting\n",
    "objects = ['Prior'] + list(bias_d.keys())\n",
    "positive = [Counter(y_test)['L5']] + list(bias_d.values())\n",
    "\n",
    "y_pos = np.arange(len(objects))\n",
    "\n",
    "plt.bar(y_pos, positive, align='center', color=['red', 'blue', 'blue','blue','blue'],alpha=0.5)\n",
    "plt.xticks(y_pos, objects)\n",
    "plt.ylabel('Malginant Count')\n",
    "plt.title('ML Algorithm Bias')\n",
    " \n",
    "plt.show()"
   ]
  },
  {
   "cell_type": "code",
   "execution_count": 10,
   "metadata": {},
   "outputs": [
    {
     "data": {
      "text/plain": [
       "array([[52,  3],\n",
       "       [21,  1]])"
      ]
     },
     "execution_count": 10,
     "metadata": {},
     "output_type": "execute_result"
    }
   ],
   "source": [
    "confusion_matrix(y_test,y_pred)"
   ]
  },
  {
   "cell_type": "markdown",
   "metadata": {},
   "source": [
    "### Hold- Out Testing Discussion\n",
    "- Assessment of bias is independent of accuracy, i.e. proportion of examples classified as the minority class compared with the actual proportion in the test set. \n",
    "- Decision Tree is least biased (19 v 22)\n",
    "- Other three classifiers significantly biased.\n",
    "- Logistic regression very biased (4 v 22)"
   ]
  },
  {
   "cell_type": "markdown",
   "metadata": {},
   "source": [
    "## Cross Validation"
   ]
  },
  {
   "cell_type": "markdown",
   "metadata": {},
   "source": [
    "### Confusion Matrix\n",
    "Class label: Survived  \n",
    "`Positive: GE5  \n",
    "Negative: L5\n",
    "Confusion Matrix\n",
    "TP  FN \n",
    "FP  TN`"
   ]
  },
  {
   "cell_type": "code",
   "execution_count": 11,
   "metadata": {},
   "outputs": [],
   "source": [
    "from sklearn.model_selection import cross_validate\n",
    "from sklearn.metrics import make_scorer\n",
    "\n",
    "def tp(y_true, y_pred): return confusion_matrix(y_true, y_pred)[0, 0]\n",
    "def tn(y_true, y_pred): return confusion_matrix(y_true, y_pred)[1, 1]\n",
    "def fp(y_true, y_pred): return confusion_matrix(y_true, y_pred)[1, 0]\n",
    "def fn(y_true, y_pred): return confusion_matrix(y_true, y_pred)[0, 1]\n",
    "scoring = {'tp' : make_scorer(tp), 'tn' : make_scorer(tn),\n",
    "           'fp' : make_scorer(fp), 'fn' : make_scorer(fn)}\n",
    "\n",
    "folds = 4\n",
    "v = 0 #  use 1 or 0"
   ]
  },
  {
   "cell_type": "code",
   "execution_count": 12,
   "metadata": {},
   "outputs": [
    {
     "name": "stdout",
     "output_type": "stream",
     "text": [
      "4 x CV DecisionTreeClassifier N: 81 Pred N: 88 Acc: 0.63\n",
      "4 x CV KNeighborsClassifier   N: 81 Pred N: 60 Acc: 0.71\n",
      "4 x CV MultinomialNB          N: 81 Pred N: 67 Acc: 0.74\n",
      "4 x CV LogisticRegression     N: 81 Pred N: 23 Acc: 0.74\n"
     ]
    }
   ],
   "source": [
    "bias_cv = {}\n",
    "\n",
    "for m in model_d:\n",
    "    cv_results = cross_validate(model_d[m], X, y, cv= folds,scoring=scoring, return_train_score=False, \n",
    "                                    verbose = v, n_jobs = -1)\n",
    "    n_tot = cv_results['test_tn'].sum() + cv_results['test_fn'].sum()\n",
    "    acc = (cv_results['test_tp'].sum() + cv_results['test_tn'].sum())/len(y)\n",
    "    bias_cv[m] = n_tot\n",
    "  \n",
    "    print(\"{} x CV {:22} N: {:d} Pred N: {:d} Acc: {:.2f}\".format(folds, \n",
    "                                                                  type(model_d[m]).__name__, \n",
    "                                                                  Counter(y)['L5'], \n",
    "                                                                  n_tot,acc)) \n"
   ]
  },
  {
   "cell_type": "code",
   "execution_count": 13,
   "metadata": {
    "scrolled": true
   },
   "outputs": [
    {
     "data": {
      "image/png": "[encoded data removed]",
      "text/plain": [
       "<Figure size 432x288 with 1 Axes>"
      ]
     },
     "metadata": {
      "needs_background": "light"
     },
     "output_type": "display_data"
    }
   ],
   "source": [
    "import matplotlib.pyplot as plt \n",
    "import numpy as np\n",
    "import matplotlib.pyplot as plt\n",
    "%matplotlib inline \n",
    "\n",
    "objects = ['Prior'] + list(bias_cv.keys())\n",
    "positive = [Counter(y)['L5']] + list(bias_cv.values())\n",
    "\n",
    "y_pos = np.arange(len(objects))\n",
    "\n",
    "plt.bar(y_pos, positive, align='center', color=['red', 'blue', 'blue','blue','blue','blue'],alpha=0.5)\n",
    "plt.xticks(y_pos, objects)\n",
    "plt.ylabel('Survival < 5')\n",
    "plt.title('ML Algorithm Bias (X-val)')\n",
    " \n",
    "plt.show()"
   ]
  },
  {
   "cell_type": "markdown",
   "metadata": {},
   "source": [
    "### X-Val Testing Discussion\n",
    "- This assessment is more robust than Hold-Out Testing because all data is consisered. \n",
    "    - We have 81 minority class examples compared with 22 in hold-out.\n",
    "- All methods except DTrees show bias.\n",
    "- DTrees are unbiased but not very accurate. \n",
    "- Logistic Regression is accurate but very biased. \n"
   ]
  },
  {
   "cell_type": "markdown",
   "metadata": {},
   "source": [
    "---\n",
    "## Q2\n",
    "\n",
    "<span style=\"color:blue\">  \n",
    "Propose a strategy to rectify this bias. Evaluate the effect of this strategy in terms of classification bias and overall accuracy. You may choose to work with hold-out testing only for this evaluation. Discuss the effectiveness of the strategy. If you consider upsampling using SMOTE as your solution you should consider another strategy as well.\n",
    "</span>\n",
    "   \n",
    "### The Fix\n",
    "We consider two strategies:\n",
    "- SMOTE to upsample the minority class,\n",
    "- Tomek Links to downsample the majority class. \n",
    "\n",
    "Briefly, SMOTE produces additional synthetic minority class samples by interpolating between real samples. We configure SMOTE to bring up the minority class count level with the majority class. The Tomek Links strategy removes majority class examples close to the class boundary."
   ]
  },
  {
   "cell_type": "code",
   "execution_count": 14,
   "metadata": {},
   "outputs": [],
   "source": [
    "from imblearn.over_sampling import SMOTE, RandomOverSampler, ADASYN\n",
    "from imblearn.under_sampling import TomekLinks"
   ]
  },
  {
   "cell_type": "code",
   "execution_count": 15,
   "metadata": {},
   "outputs": [
    {
     "data": {
      "text/html": [
       "<div>\n",
       "<style scoped>\n",
       "    .dataframe tbody tr th:only-of-type {\n",
       "        vertical-align: middle;\n",
       "    }\n",
       "\n",
       "    .dataframe tbody tr th {\n",
       "        vertical-align: top;\n",
       "    }\n",
       "\n",
       "    .dataframe thead th {\n",
       "        text-align: right;\n",
       "    }\n",
       "</style>\n",
       "<table border=\"1\" class=\"dataframe\">\n",
       "  <thead>\n",
       "    <tr style=\"text-align: right;\">\n",
       "      <th></th>\n",
       "      <th>Age</th>\n",
       "      <th>Year</th>\n",
       "      <th>NNodes</th>\n",
       "      <th>Class</th>\n",
       "      <th>Survived</th>\n",
       "    </tr>\n",
       "  </thead>\n",
       "  <tbody>\n",
       "    <tr>\n",
       "      <th>0</th>\n",
       "      <td>30</td>\n",
       "      <td>64</td>\n",
       "      <td>1</td>\n",
       "      <td>1</td>\n",
       "      <td>GE5</td>\n",
       "    </tr>\n",
       "    <tr>\n",
       "      <th>1</th>\n",
       "      <td>30</td>\n",
       "      <td>62</td>\n",
       "      <td>3</td>\n",
       "      <td>1</td>\n",
       "      <td>GE5</td>\n",
       "    </tr>\n",
       "    <tr>\n",
       "      <th>2</th>\n",
       "      <td>30</td>\n",
       "      <td>65</td>\n",
       "      <td>0</td>\n",
       "      <td>1</td>\n",
       "      <td>GE5</td>\n",
       "    </tr>\n",
       "    <tr>\n",
       "      <th>3</th>\n",
       "      <td>31</td>\n",
       "      <td>59</td>\n",
       "      <td>2</td>\n",
       "      <td>1</td>\n",
       "      <td>GE5</td>\n",
       "    </tr>\n",
       "    <tr>\n",
       "      <th>4</th>\n",
       "      <td>31</td>\n",
       "      <td>65</td>\n",
       "      <td>4</td>\n",
       "      <td>1</td>\n",
       "      <td>GE5</td>\n",
       "    </tr>\n",
       "  </tbody>\n",
       "</table>\n",
       "</div>"
      ],
      "text/plain": [
       "   Age  Year  NNodes  Class Survived\n",
       "0   30    64       1      1      GE5\n",
       "1   30    62       3      1      GE5\n",
       "2   30    65       0      1      GE5\n",
       "3   31    59       2      1      GE5\n",
       "4   31    65       4      1      GE5"
      ]
     },
     "execution_count": 15,
     "metadata": {},
     "output_type": "execute_result"
    }
   ],
   "source": [
    "surv = pd.read_csv('survival.csv')\n",
    "surv['Survived'] = 'GE5'\n",
    "surv.loc[surv['Class']==2,'Survived']='L5'\n",
    "surv.head()"
   ]
  },
  {
   "cell_type": "code",
   "execution_count": 16,
   "metadata": {},
   "outputs": [
    {
     "data": {
      "text/plain": [
       "((306, 3), (306,))"
      ]
     },
     "execution_count": 16,
     "metadata": {},
     "output_type": "execute_result"
    }
   ],
   "source": [
    "y = surv.pop('Survived').values\n",
    "surv.pop('Class')\n",
    "X = surv.values\n",
    "X.shape, y.shape"
   ]
  },
  {
   "cell_type": "code",
   "execution_count": 17,
   "metadata": {},
   "outputs": [
    {
     "name": "stdout",
     "output_type": "stream",
     "text": [
      "Minority in training set : 50\n"
     ]
    }
   ],
   "source": [
    "X_train, X_test, y_train, y_test = train_test_split(X, y, random_state=0)\n",
    "print(\"Minority in training set : %d\" % (Counter(y_train)['L5']))"
   ]
  },
  {
   "cell_type": "markdown",
   "metadata": {},
   "source": [
    "### SMOTE   \n",
    "Upsample the minority class count so that it is level."
   ]
  },
  {
   "cell_type": "code",
   "execution_count": 18,
   "metadata": {
    "scrolled": true
   },
   "outputs": [],
   "source": [
    "sm = SMOTE(random_state=12)\n",
    "X_train_res, y_train_res = sm.fit_sample(X_train, y_train)"
   ]
  },
  {
   "cell_type": "markdown",
   "metadata": {},
   "source": [
    "**Verify that the upsampling has occured.**"
   ]
  },
  {
   "cell_type": "code",
   "execution_count": 19,
   "metadata": {},
   "outputs": [
    {
     "data": {
      "text/plain": [
       "(229, 358)"
      ]
     },
     "execution_count": 19,
     "metadata": {},
     "output_type": "execute_result"
    }
   ],
   "source": [
    "len(y_train), len(y_train_res)"
   ]
  },
  {
   "cell_type": "code",
   "execution_count": 20,
   "metadata": {},
   "outputs": [
    {
     "data": {
      "text/plain": [
       "(50, 179)"
      ]
     },
     "execution_count": 20,
     "metadata": {},
     "output_type": "execute_result"
    }
   ],
   "source": [
    "(Counter(y_train)['L5']), (Counter(y_train_res)['L5'])"
   ]
  },
  {
   "cell_type": "code",
   "execution_count": 21,
   "metadata": {},
   "outputs": [
    {
     "name": "stdout",
     "output_type": "stream",
     "text": [
      "Original Training\n",
      "Majority class: 179\n",
      "Minority class: 50\n",
      "Upsampled Training\n",
      "Majority class: 179\n",
      "Minority class: 179\n"
     ]
    }
   ],
   "source": [
    "print(\"Original Training\")\n",
    "print(\"Majority class:\",Counter(y_train)['GE5'])\n",
    "print(\"Minority class:\",Counter(y_train)['L5'])\n",
    "print(\"Upsampled Training\")\n",
    "print(\"Majority class:\",Counter(y_train_res)['GE5'])\n",
    "print(\"Minority class:\",Counter(y_train_res)['L5'])"
   ]
  },
  {
   "cell_type": "code",
   "execution_count": 33,
   "metadata": {},
   "outputs": [
    {
     "name": "stdout",
     "output_type": "stream",
     "text": [
      "Minority in test set : 31\n",
      "['L5' 'L5' 'GE5' 'GE5' 'GE5' 'GE5' 'GE5' 'L5' 'L5' 'GE5' 'GE5' 'L5' 'L5'\n",
      " 'GE5' 'L5' 'GE5' 'L5' 'GE5' 'GE5' 'GE5' 'GE5' 'GE5' 'GE5' 'GE5' 'L5' 'L5'\n",
      " 'GE5' 'L5' 'GE5' 'GE5' 'GE5' 'GE5' 'L5' 'GE5' 'L5' 'GE5' 'GE5' 'GE5' 'L5'\n",
      " 'GE5' 'L5' 'GE5' 'L5' 'GE5' 'GE5' 'GE5' 'GE5' 'L5' 'GE5' 'GE5' 'L5' 'GE5'\n",
      " 'GE5' 'GE5' 'GE5' 'GE5' 'GE5' 'GE5' 'GE5' 'GE5' 'GE5' 'L5' 'GE5' 'L5'\n",
      " 'L5' 'GE5' 'GE5' 'GE5' 'GE5' 'L5' 'GE5' 'L5' 'GE5' 'GE5' 'GE5' 'L5' 'GE5']\n",
      "DecisionTreeClassifier Pred. Malignant: 24 Accuracy: 0.62\n",
      "['GE5' 'GE5' 'GE5' 'GE5' 'GE5' 'GE5' 'GE5' 'L5' 'L5' 'GE5' 'GE5' 'GE5'\n",
      " 'L5' 'GE5' 'L5' 'GE5' 'L5' 'GE5' 'GE5' 'GE5' 'GE5' 'GE5' 'GE5' 'GE5' 'L5'\n",
      " 'GE5' 'GE5' 'GE5' 'GE5' 'GE5' 'GE5' 'GE5' 'GE5' 'GE5' 'GE5' 'GE5' 'GE5'\n",
      " 'GE5' 'L5' 'GE5' 'L5' 'GE5' 'L5' 'GE5' 'GE5' 'GE5' 'GE5' 'GE5' 'GE5'\n",
      " 'GE5' 'GE5' 'GE5' 'GE5' 'GE5' 'GE5' 'GE5' 'GE5' 'GE5' 'GE5' 'GE5' 'GE5'\n",
      " 'GE5' 'GE5' 'L5' 'L5' 'GE5' 'GE5' 'GE5' 'GE5' 'L5' 'GE5' 'L5' 'GE5' 'L5'\n",
      " 'GE5' 'L5' 'GE5']\n",
      "KNeighborsClassifier   Pred. Malignant: 15 Accuracy: 0.64\n",
      "['GE5' 'L5' 'GE5' 'GE5' 'L5' 'L5' 'GE5' 'L5' 'L5' 'GE5' 'GE5' 'GE5' 'GE5'\n",
      " 'GE5' 'L5' 'GE5' 'L5' 'GE5' 'GE5' 'GE5' 'GE5' 'GE5' 'GE5' 'L5' 'L5' 'GE5'\n",
      " 'GE5' 'GE5' 'GE5' 'GE5' 'GE5' 'GE5' 'L5' 'GE5' 'GE5' 'GE5' 'GE5' 'GE5'\n",
      " 'L5' 'GE5' 'L5' 'L5' 'GE5' 'GE5' 'GE5' 'GE5' 'GE5' 'GE5' 'GE5' 'L5' 'GE5'\n",
      " 'GE5' 'GE5' 'GE5' 'GE5' 'GE5' 'L5' 'GE5' 'GE5' 'GE5' 'GE5' 'GE5' 'GE5'\n",
      " 'GE5' 'L5' 'GE5' 'GE5' 'GE5' 'GE5' 'L5' 'GE5' 'L5' 'GE5' 'L5' 'GE5' 'L5'\n",
      " 'GE5']\n",
      "MultinomialNB          Pred. Malignant: 20 Accuracy: 0.62\n",
      "['GE5' 'GE5' 'GE5' 'GE5' 'GE5' 'GE5' 'GE5' 'L5' 'L5' 'GE5' 'GE5' 'GE5'\n",
      " 'GE5' 'GE5' 'L5' 'GE5' 'L5' 'GE5' 'GE5' 'GE5' 'GE5' 'GE5' 'GE5' 'GE5'\n",
      " 'GE5' 'GE5' 'GE5' 'GE5' 'GE5' 'GE5' 'GE5' 'GE5' 'GE5' 'GE5' 'GE5' 'GE5'\n",
      " 'GE5' 'GE5' 'L5' 'GE5' 'GE5' 'GE5' 'GE5' 'GE5' 'GE5' 'GE5' 'GE5' 'GE5'\n",
      " 'GE5' 'GE5' 'GE5' 'GE5' 'GE5' 'GE5' 'GE5' 'GE5' 'GE5' 'GE5' 'GE5' 'GE5'\n",
      " 'GE5' 'GE5' 'GE5' 'GE5' 'GE5' 'GE5' 'GE5' 'GE5' 'GE5' 'L5' 'GE5' 'GE5'\n",
      " 'GE5' 'L5' 'GE5' 'GE5' 'GE5']\n",
      "LogisticRegression     Pred. Malignant: 7 Accuracy: 0.64\n"
     ]
    }
   ],
   "source": [
    "print(\"Minority in test set : %d\" % Counter(y_test)['L5'])\n",
    "res_d = {}\n",
    "acc_res = {}\n",
    "\n",
    "for m in model_d:\n",
    "    y_pred = model_d[m].fit(X_train_res, y_train_res).predict(X_test)\n",
    "    pred_count =  Counter(y_pred)['L5']\n",
    "    res_d[m] = pred_count\n",
    "    acc = accuracy_score(y_test, y_pred)\n",
    "    acc_res[m] = acc\n",
    "\n",
    "    print(\"{:22} Pred. Malignant: {:d} Accuracy: {:.2f}\".format(type(model_d[m]).__name__, \n",
    "                                                                pred_count,acc))"
   ]
  },
  {
   "cell_type": "markdown",
   "metadata": {},
   "source": [
    "### Tomek Links"
   ]
  },
  {
   "cell_type": "code",
   "execution_count": 23,
   "metadata": {},
   "outputs": [],
   "source": [
    "tl = TomekLinks()\n",
    "X_train_res, y_train_res = tl.fit_sample(X_train, y_train)"
   ]
  },
  {
   "cell_type": "code",
   "execution_count": 24,
   "metadata": {},
   "outputs": [
    {
     "data": {
      "text/plain": [
       "(179, 165)"
      ]
     },
     "execution_count": 24,
     "metadata": {},
     "output_type": "execute_result"
    }
   ],
   "source": [
    "(Counter(y_train)['GE5']), (Counter(y_train_res)['GE5'])"
   ]
  },
  {
   "cell_type": "code",
   "execution_count": 25,
   "metadata": {},
   "outputs": [
    {
     "name": "stdout",
     "output_type": "stream",
     "text": [
      "Original Training\n",
      "Majority class: 179\n",
      "Minority class: 50\n",
      "Upsampled Training\n",
      "Majority class: 165\n",
      "Minority class: 50\n"
     ]
    }
   ],
   "source": [
    "print(\"Original Training\")\n",
    "print(\"Majority class:\",Counter(y_train)['GE5'])\n",
    "print(\"Minority class:\",Counter(y_train)['L5'])\n",
    "print(\"Upsampled Training\")\n",
    "print(\"Majority class:\",Counter(y_train_res)['GE5'])\n",
    "print(\"Minority class:\",Counter(y_train_res)['L5'])"
   ]
  },
  {
   "cell_type": "code",
   "execution_count": 26,
   "metadata": {},
   "outputs": [
    {
     "name": "stdout",
     "output_type": "stream",
     "text": [
      "Minority in test set : 31\n",
      "DecisionTreeClassifier Pred. Malignant: 24 Accuracy: 0.65\n",
      "KNeighborsClassifier   Pred. Malignant: 15 Accuracy: 0.64\n",
      "MultinomialNB          Pred. Malignant: 20 Accuracy: 0.62\n",
      "LogisticRegression     Pred. Malignant: 7 Accuracy: 0.64\n"
     ]
    }
   ],
   "source": [
    "print(\"Minority in test set : %d\" % Counter(y_test)['L5'])\n",
    "bias_tl = {}\n",
    "acc_tl = {}\n",
    "\n",
    "for m in model_d:\n",
    "    y_pred = model_d[m].fit(X_train_res, y_train_res).predict(X_test)\n",
    "    pred_count =  Counter(y_pred)['L5']\n",
    "    bias_tl[m] = pred_count\n",
    "    acc = accuracy_score(y_test, y_pred)\n",
    "    acc_tl[m] = acc\n",
    "\n",
    "    print(\"{:22} Pred. Malignant: {:d} Accuracy: {:.2f}\".format(type(model_d[m]).__name__, \n",
    "                                                                pred_count,acc))"
   ]
  },
  {
   "cell_type": "code",
   "execution_count": 27,
   "metadata": {
    "scrolled": true
   },
   "outputs": [
    {
     "data": {
      "image/png": "[encoded data removed]",
      "text/plain": [
       "<Figure size 432x288 with 1 Axes>"
      ]
     },
     "metadata": {
      "needs_background": "light"
     },
     "output_type": "display_data"
    }
   ],
   "source": [
    "import matplotlib.pyplot as plt \n",
    "import numpy as np\n",
    "%matplotlib inline \n",
    "\n",
    "fig, ax = plt.subplots()\n",
    "width = 0.3\n",
    "\n",
    "# Add the prior figures to the data for plotting\n",
    "objects = ['Prior'] + list(bias_d.keys())\n",
    "positive = [ Counter(y_test)['L5']] + list(bias_d.values())\n",
    "res = [ Counter(y_test)['L5']] + list(res_d.values())\n",
    "res_tl = [ Counter(y_test)['L5']] + list(bias_tl.values())\n",
    "\n",
    "\n",
    "y_pos = np.arange(len(objects))\n",
    "\n",
    "p1 = ax.bar(y_pos-width, positive, width, align='center', \n",
    "            color=['red', 'blue', 'blue','blue','blue'],alpha=0.5)\n",
    "\n",
    "p2 = ax.bar(y_pos, res, width, align='center', \n",
    "            color=['red', 'g','g','g','g'],alpha=0.5)\n",
    "\n",
    "p3 = ax.bar(y_pos+width, res_tl, width, align='center', \n",
    "            color=['red', 'y','y','y','y'],alpha=0.5)\n",
    "\n",
    "\n",
    "ax.legend((p1[1], p2[1], p3[1]), ('Raw', 'SMOTE', 'Tomek Links'))\n",
    "\n",
    "plt.xticks(y_pos, objects)\n",
    "plt.ylabel('Malignant Counts')\n",
    "plt.title('Impact of Upsampling')\n",
    " \n",
    "plt.show()"
   ]
  },
  {
   "cell_type": "code",
   "execution_count": 30,
   "metadata": {},
   "outputs": [
    {
     "data": {
      "text/plain": [
       "31"
      ]
     },
     "execution_count": 30,
     "metadata": {},
     "output_type": "execute_result"
    }
   ],
   "source": [
    "Counter(y_test)['L5']"
   ]
  },
  {
   "cell_type": "code",
   "execution_count": 31,
   "metadata": {},
   "outputs": [
    {
     "data": {
      "text/plain": [
       "[18, 11, 15, 4]"
      ]
     },
     "execution_count": 31,
     "metadata": {},
     "output_type": "execute_result"
    }
   ],
   "source": [
    "list(bias_d.values())"
   ]
  },
  {
   "cell_type": "code",
   "execution_count": 32,
   "metadata": {},
   "outputs": [
    {
     "data": {
      "text/plain": [
       "[31, 18, 11, 15, 4]"
      ]
     },
     "execution_count": 32,
     "metadata": {},
     "output_type": "execute_result"
    }
   ],
   "source": [
    "positive"
   ]
  },
  {
   "cell_type": "code",
   "execution_count": 28,
   "metadata": {},
   "outputs": [
    {
     "data": {
      "image/png": "[encoded data removed]",
      "text/plain": [
       "<Figure size 432x288 with 1 Axes>"
      ]
     },
     "metadata": {
      "needs_background": "light"
     },
     "output_type": "display_data"
    }
   ],
   "source": [
    "fig, ax = plt.subplots()\n",
    "\n",
    "objects =  list(acc_bl.keys())\n",
    "before =   list(acc_bl.values())\n",
    "Smote_vals =  list(acc_res.values())\n",
    "tl_vals = list(acc_tl.values())\n",
    "\n",
    "y_pos = np.arange(len(objects))\n",
    "p1 = ax.bar(y_pos-width, before, width, align='center', \n",
    "            color=['blue', 'blue','blue','blue'],alpha=0.5)\n",
    "p2 = ax.bar(y_pos, Smote_vals, width, align='center', \n",
    "            color=['g','g','g','g'],alpha=0.5)\n",
    "p3 = ax.bar(y_pos+width, tl_vals, width, align='center', \n",
    "            color=['y','y','y','y'],alpha=0.5)\n",
    "\n",
    "ax.legend((p1[1], p2[1], p3[1]), ('Raw', 'SMOTE', 'Tomek Links'), loc = 'lower right')\n",
    "plt.xticks(y_pos, objects)\n",
    "plt.grid()\n",
    "plt.ylabel('Accuracy')\n",
    "plt.title('Impact of Upsampling')\n",
    "plt.show()"
   ]
  },
  {
   "cell_type": "markdown",
   "metadata": {},
   "source": [
    "### The Fix - Discussion\n",
    "\n",
    "The solution we propose is to upsample the minority class data in training. \n",
    "- Both SMOTE and Tomek Links reduce bias\n",
    "- SMOTE seems to work better than Tomek Links\n",
    "- The assessment is unstable in that different runs produce different results\n",
    "- SMOTE with D-Trees has best performance in terms of bias but accuracy is significantly impacted. "
   ]
  },
  {
   "cell_type": "markdown",
   "metadata": {},
   "source": [
    "## Q3 \n",
    "## Second Dataset\n",
    "  \n",
    "\n",
    "<span style=\"color:blue\">\n",
    "Test the impact of this strategy on another dataset of your choice. Discuss the effectiveness of the strategy on this second dataset. \n",
    "</span>\n",
    "\n",
    "\n",
    "The second dataset chosen is the Hotel Reviews data.  \n",
    "The first bar chart shows that the bias is greater in this dataset. "
   ]
  },
  {
   "cell_type": "code",
   "execution_count": null,
   "metadata": {},
   "outputs": [],
   "source": [
    "hotel_rev_pd = pd.read_csv('HotelRevHelpfulnessV2.csv')\n",
    "hotel_rev_pd.head()"
   ]
  },
  {
   "cell_type": "code",
   "execution_count": null,
   "metadata": {},
   "outputs": [],
   "source": [
    "y = hotel_rev_pd.pop('reviewHelpfulness').values\n",
    "X = hotel_rev_pd.values\n",
    "X.shape"
   ]
  },
  {
   "cell_type": "code",
   "execution_count": null,
   "metadata": {},
   "outputs": [],
   "source": [
    "print(\"Original Dataset\")\n",
    "print(\"Minority class:\",len(y) - y.sum())\n",
    "print(\"Majority class:\",y.sum())\n",
    "print(\"Minority class: {:.2f}%\".format((len(y)-y.sum())/len(y)*100))"
   ]
  },
  {
   "cell_type": "code",
   "execution_count": null,
   "metadata": {},
   "outputs": [],
   "source": [
    "X_train, X_test, y_train, y_test = train_test_split(X, y, random_state=2)\n",
    "bias_ds2 = {}\n",
    "acc_bl = {}\n",
    "\n",
    "print(\"Unhelpful in test set : %d\" % (len(y_test) - y_test.sum()))\n",
    "\n",
    "for m in model_d:\n",
    "    y_pred = model_d[m].fit(X_train, y_train).predict(X_test)\n",
    "    pred_count = (len(y_pred) - y_pred.sum())\n",
    "    bias_ds2[m] = pred_count\n",
    "    acc = accuracy_score(y_test, y_pred)\n",
    "    acc_bl[m] = acc\n",
    "  \n",
    "\n",
    "    print(\"{:22} Pred. Unhelpful: {:d} Accuracy: {:.2f}\".\n",
    "          format(type(model_d[m]).__name__, pred_count,acc))"
   ]
  },
  {
   "cell_type": "code",
   "execution_count": null,
   "metadata": {},
   "outputs": [],
   "source": [
    "import matplotlib.pyplot as plt \n",
    "import numpy as np\n",
    "%matplotlib inline \n",
    "\n",
    "# Add the prior figures to the data for plotting\n",
    "objects = ['Prior'] + list(bias_d.keys())\n",
    "positive = [len(y_test) - y_test.sum()] + list(bias_ds2.values())\n",
    "\n",
    "y_pos = np.arange(len(objects))\n",
    "\n",
    "plt.bar(y_pos, positive, align='center', color=['red', 'blue', 'blue','blue','blue','blue','blue'],alpha=0.5)\n",
    "plt.xticks(y_pos, objects)\n",
    "plt.ylabel('Minority Count')\n",
    "plt.title('ML Algorithm Bias')\n",
    " \n",
    "plt.show()"
   ]
  },
  {
   "cell_type": "code",
   "execution_count": null,
   "metadata": {},
   "outputs": [],
   "source": [
    "sm = SMOTE(random_state=1)\n",
    "#sm  = RandomOverSampler(random_state=1, ratio = 1.0)\n",
    "sm  = ADASYN(random_state=1)\n",
    "X_train_res, y_train_res = sm.fit_sample(X_train, y_train)"
   ]
  },
  {
   "cell_type": "code",
   "execution_count": null,
   "metadata": {},
   "outputs": [],
   "source": [
    "print(\"Unhelpful in test set : %d\" % (len(y_test) - y_test.sum()))\n",
    "res_ds2 = {}\n",
    "acc_res = {}\n",
    "\n",
    "for m in model_d:\n",
    "    y_pred = model_d[m].fit(X_train_res, y_train_res).predict(X_test)\n",
    "    pred_count = (len(y_pred) - y_pred.sum())\n",
    "    res_ds2[m] = pred_count\n",
    "    acc = accuracy_score(y_test, y_pred)\n",
    "    acc_res[m] = acc\n",
    "\n",
    "    print(\"{:22} Pred. Unhelpful: {:d} Accuracy: {:.2f}\".\n",
    "          format(type(model_d[m]).__name__, pred_count,acc))"
   ]
  },
  {
   "cell_type": "code",
   "execution_count": null,
   "metadata": {},
   "outputs": [],
   "source": [
    "import matplotlib.pyplot as plt \n",
    "import numpy as np\n",
    "%matplotlib inline \n",
    "\n",
    "fig, ax = plt.subplots()\n",
    "width = 0.35\n",
    "\n",
    "# Add the prior figures to the data for plotting\n",
    "objects = ['Prior'] + list(bias_d.keys())\n",
    "positive = [len(y_test) - y_test.sum()] + list(bias_ds2.values())\n",
    "res = [len(y_test) - y_test.sum()] + list(res_ds2.values())\n",
    "\n",
    "y_pos = np.arange(len(objects))\n",
    "\n",
    "p1 = ax.bar(y_pos, positive, width, align='center', \n",
    "            color=['red', 'blue', 'blue','blue','blue'],alpha=0.5)\n",
    "\n",
    "p2 = ax.bar(y_pos+width, res, width, align='center', \n",
    "            color=['red', 'g','g','g','g'],alpha=0.5)\n",
    "\n",
    "ax.legend((p1[1], p2[1]), ('Raw', 'Upsampled'))\n",
    "\n",
    "plt.xticks(y_pos, objects)\n",
    "plt.ylabel('Count')\n",
    "plt.title('ML Algorithm Bias')\n",
    " \n",
    "plt.show()"
   ]
  },
  {
   "cell_type": "code",
   "execution_count": null,
   "metadata": {},
   "outputs": [],
   "source": [
    "fig, ax = plt.subplots()\n",
    "\n",
    "objects =  list(acc_bl.keys())\n",
    "before =   list(acc_bl.values())\n",
    "after =  list(acc_res.values())\n",
    "y_pos = np.arange(len(objects))\n",
    "p1 = ax.bar(y_pos, before, width, align='center', \n",
    "            color=['blue', 'blue','blue','blue'],alpha=0.5)\n",
    "p2 = ax.bar(y_pos+width, after, width, align='center', \n",
    "            color=['g','g','g','g'],alpha=0.5)\n",
    "ax.legend((p1[1], p2[1]), ('Raw', 'Upsampled'))\n",
    "plt.xticks(y_pos, objects)\n",
    "plt.ylabel('Accuracy')\n",
    "plt.title('Impact of Upsampling')\n",
    "plt.show()"
   ]
  },
  {
   "cell_type": "markdown",
   "metadata": {},
   "source": [
    "### Second Dataset Discussion  \n",
    "The results on the second dataset are again quite positive. \n",
    "- With the exception of Naive Bayes, there is good improvement on bias.\n",
    "- With the exception of Logistic Regression there is not too much impact on accuracy. \n",
    "- It seems that kNN offers the best balance between bias and accuracy. \n",
    "- Again, the results are unstable for different train-test splits."
   ]
  },
  {
   "cell_type": "code",
   "execution_count": null,
   "metadata": {},
   "outputs": [],
   "source": []
  }
 ],
 "metadata": {
  "kernelspec": {
   "display_name": "Python 3",
   "language": "python",
   "name": "python3"
  },
  "language_info": {
   "codemirror_mode": {
    "name": "ipython",
    "version": 3
   },
   "file_extension": ".py",
   "mimetype": "text/x-python",
   "name": "python",
   "nbconvert_exporter": "python",
   "pygments_lexer": "ipython3",
   "version": "3.7.4"
  }
 },
 "nbformat": 4,
 "nbformat_minor": 2
}
