{
 "cells": [
  {
   "cell_type": "markdown",
   "metadata": {},
   "source": [
    "# Pipelines & Feature Selection"
   ]
  },
  {
   "cell_type": "code",
   "execution_count": 175,
   "metadata": {},
   "outputs": [],
   "source": [
    "import numpy as np\n",
    "import pandas as pd\n",
    "import matplotlib.pyplot as plt\n",
    "from collections import Counter\n",
    "import graphviz \n",
    "\n",
    "from sklearn import tree\n",
    "from sklearn.tree import DecisionTreeClassifier\n",
    "from sklearn.linear_model import LogisticRegression\n",
    "from sklearn.ensemble import GradientBoostingClassifier\n",
    "from sklearn.neighbors import KNeighborsClassifier\n",
    "\n",
    "from sklearn.metrics import confusion_matrix, accuracy_score, make_scorer, roc_curve, auc, f1_score, classification_report, plot_roc_curve\n",
    "from sklearn.model_selection import train_test_split, cross_validate, cross_val_score, KFold\n",
    "from sklearn.model_selection import ShuffleSplit, cross_val_predict\n",
    "\n",
    "from sklearn.pipeline import Pipeline\n",
    "\n",
    "from sklearn.feature_selection import chi2, mutual_info_classif, SelectKBest\n",
    "\n",
    "from imblearn.over_sampling import SMOTE\n",
    "\n",
    "import seaborn as sns\n",
    "\n",
    "import statistics\n",
    "\n",
    "%matplotlib inline\n"
   ]
  },
  {
   "cell_type": "markdown",
   "metadata": {},
   "source": [
    "# 1. Rectifying Bias - cross validation"
   ]
  },
  {
   "cell_type": "code",
   "execution_count": 176,
   "metadata": {},
   "outputs": [
    {
     "data": {
      "text/html": [
       "<div>\n",
       "<style scoped>\n",
       "    .dataframe tbody tr th:only-of-type {\n",
       "        vertical-align: middle;\n",
       "    }\n",
       "\n",
       "    .dataframe tbody tr th {\n",
       "        vertical-align: top;\n",
       "    }\n",
       "\n",
       "    .dataframe thead th {\n",
       "        text-align: right;\n",
       "    }\n",
       "</style>\n",
       "<table border=\"1\" class=\"dataframe\">\n",
       "  <thead>\n",
       "    <tr style=\"text-align: right;\">\n",
       "      <th></th>\n",
       "      <th>Age</th>\n",
       "      <th>Year</th>\n",
       "      <th>NNodes</th>\n",
       "      <th>Class</th>\n",
       "      <th>Survived</th>\n",
       "    </tr>\n",
       "  </thead>\n",
       "  <tbody>\n",
       "    <tr>\n",
       "      <th>0</th>\n",
       "      <td>30</td>\n",
       "      <td>64</td>\n",
       "      <td>1</td>\n",
       "      <td>1</td>\n",
       "      <td>GE5</td>\n",
       "    </tr>\n",
       "    <tr>\n",
       "      <th>1</th>\n",
       "      <td>30</td>\n",
       "      <td>62</td>\n",
       "      <td>3</td>\n",
       "      <td>1</td>\n",
       "      <td>GE5</td>\n",
       "    </tr>\n",
       "    <tr>\n",
       "      <th>2</th>\n",
       "      <td>30</td>\n",
       "      <td>65</td>\n",
       "      <td>0</td>\n",
       "      <td>1</td>\n",
       "      <td>GE5</td>\n",
       "    </tr>\n",
       "    <tr>\n",
       "      <th>3</th>\n",
       "      <td>31</td>\n",
       "      <td>59</td>\n",
       "      <td>2</td>\n",
       "      <td>1</td>\n",
       "      <td>GE5</td>\n",
       "    </tr>\n",
       "    <tr>\n",
       "      <th>4</th>\n",
       "      <td>31</td>\n",
       "      <td>65</td>\n",
       "      <td>4</td>\n",
       "      <td>1</td>\n",
       "      <td>GE5</td>\n",
       "    </tr>\n",
       "  </tbody>\n",
       "</table>\n",
       "</div>"
      ],
      "text/plain": [
       "   Age  Year  NNodes  Class Survived\n",
       "0   30    64       1      1      GE5\n",
       "1   30    62       3      1      GE5\n",
       "2   30    65       0      1      GE5\n",
       "3   31    59       2      1      GE5\n",
       "4   31    65       4      1      GE5"
      ]
     },
     "execution_count": 176,
     "metadata": {},
     "output_type": "execute_result"
    }
   ],
   "source": [
    "# Load  dataset\n",
    "surv = pd.read_csv('survival.csv')\n",
    "surv['Survived'] = 'GE5'\n",
    "surv.loc[surv['Class']==2,'Survived']='L5'\n",
    "surv.head()"
   ]
  },
  {
   "cell_type": "code",
   "execution_count": 177,
   "metadata": {},
   "outputs": [
    {
     "data": {
      "text/plain": [
       "(306, 5)"
      ]
     },
     "execution_count": 177,
     "metadata": {},
     "output_type": "execute_result"
    }
   ],
   "source": [
    "surv.shape"
   ]
  },
  {
   "cell_type": "code",
   "execution_count": 178,
   "metadata": {},
   "outputs": [
    {
     "data": {
      "text/plain": [
       "GE5    225\n",
       "L5      81\n",
       "Name: Survived, dtype: int64"
      ]
     },
     "execution_count": 178,
     "metadata": {},
     "output_type": "execute_result"
    }
   ],
   "source": [
    "surv['Survived'].value_counts() "
   ]
  },
  {
   "cell_type": "code",
   "execution_count": 179,
   "metadata": {},
   "outputs": [
    {
     "data": {
      "text/plain": [
       "((306, 3), (306,))"
      ]
     },
     "execution_count": 179,
     "metadata": {},
     "output_type": "execute_result"
    }
   ],
   "source": [
    "surv_copy = surv.copy()\n",
    "y = surv_copy.pop('Survived').values\n",
    "y.shape\n",
    "surv_copy.pop('Class')\n",
    "X = surv_copy.values\n",
    "X.shape, y.shape"
   ]
  },
  {
   "cell_type": "code",
   "execution_count": 180,
   "metadata": {},
   "outputs": [
    {
     "name": "stdout",
     "output_type": "stream",
     "text": [
      "Majority class : 0.74\n",
      "Minority class : 0.26\n"
     ]
    }
   ],
   "source": [
    "print(\"Majority class : %0.2f\" % (Counter(y)['GE5']/len(y)))\n",
    "print(\"Minority class : %0.2f\" % (Counter(y)['L5']/len(y)))"
   ]
  },
  {
   "cell_type": "markdown",
   "metadata": {},
   "source": [
    "### 1. From your first assignment submission, show the hold-out evaluation of the impact of your bias reduction strategy (just one strategy). This will serve as a base-line."
   ]
  },
  {
   "cell_type": "code",
   "execution_count": 181,
   "metadata": {},
   "outputs": [],
   "source": [
    "kNN = KNeighborsClassifier(n_neighbors=3)\n",
    "dtree = DecisionTreeClassifier(criterion='entropy', max_leaf_nodes=6)\n",
    "logR = LogisticRegression(solver='liblinear', random_state=42, C=1e5)\n",
    "gbc = GradientBoostingClassifier(random_state=42, max_leaf_nodes=6)\n",
    "\n",
    "models = [kNN, dtree, logR, gbc]\n",
    "m_names = ['kNN', 'dTree', 'LogR', 'gbc']\n",
    "classes=['GE5','L5']"
   ]
  },
  {
   "cell_type": "code",
   "execution_count": 182,
   "metadata": {},
   "outputs": [],
   "source": [
    "X_train, X_test, y_train, y_test = train_test_split(X, y, random_state=42)\n",
    "\n",
    "# Separate majority and minority classes\n",
    "surv_majority = y_train[y_train == 'GE5']\n",
    "surv_minority = y_train[y_train == 'L5']\n",
    "\n",
    "sm = SMOTE(random_state=12)\n",
    "X_train_res, y_train_res = sm.fit_sample(X_train, y_train)"
   ]
  },
  {
   "cell_type": "code",
   "execution_count": 183,
   "metadata": {},
   "outputs": [
    {
     "data": {
      "text/plain": [
       "(229, 340)"
      ]
     },
     "execution_count": 183,
     "metadata": {},
     "output_type": "execute_result"
    }
   ],
   "source": [
    "len(y_train), len(y_train_res)"
   ]
  },
  {
   "cell_type": "code",
   "execution_count": 184,
   "metadata": {},
   "outputs": [
    {
     "data": {
      "text/plain": [
       "(59, 170)"
      ]
     },
     "execution_count": 184,
     "metadata": {},
     "output_type": "execute_result"
    }
   ],
   "source": [
    "(Counter(y_train)['L5']), (Counter(y_train_res)['L5'])"
   ]
  },
  {
   "cell_type": "code",
   "execution_count": 185,
   "metadata": {},
   "outputs": [
    {
     "name": "stdout",
     "output_type": "stream",
     "text": [
      "Original Training\n",
      "Majority class: 170\n",
      "Minority class: 59\n",
      "Upsampled Training\n",
      "Majority class: 170\n",
      "Minority class: 170\n"
     ]
    }
   ],
   "source": [
    "print(\"Original Training\")\n",
    "print(\"Majority class:\",Counter(y_train)['GE5'])\n",
    "print(\"Minority class:\",Counter(y_train)['L5'])\n",
    "print(\"Upsampled Training\")\n",
    "print(\"Majority class:\",Counter(y_train_res)['GE5'])\n",
    "print(\"Minority class:\",Counter(y_train_res)['L5'])"
   ]
  },
  {
   "cell_type": "code",
   "execution_count": 186,
   "metadata": {},
   "outputs": [
    {
     "name": "stdout",
     "output_type": "stream",
     "text": [
      "Minority in test set : 22\n",
      "kNN    Pred. L5: 32 Accuracy: 0.58\n",
      "dTree  Pred. L5: 27 Accuracy: 0.65\n",
      "LogR   Pred. L5: 29 Accuracy: 0.60\n",
      "gbc    Pred. L5: 26 Accuracy: 0.61\n"
     ]
    }
   ],
   "source": [
    "print(\"Minority in test set : %d\" % Counter(y_test)['L5'])\n",
    "res_d = {}\n",
    "acc_res = {}\n",
    "\n",
    "for i, m in enumerate(models):\n",
    "    y_pred = m.fit(X_train_res, y_train_res).predict(X_test)\n",
    "    pred_count =  Counter(y_pred)['L5']\n",
    "    res_d[m] = pred_count\n",
    "    acc = accuracy_score(y_test, y_pred)\n",
    "    acc_res[m] = acc\n",
    "\n",
    "    print(\"{:6} Pred. L5: {:d} Accuracy: {:.2f}\".format(m_names[i], pred_count,acc))\n",
    "     "
   ]
  },
  {
   "cell_type": "code",
   "execution_count": 187,
   "metadata": {},
   "outputs": [],
   "source": [
    "def print_eveluations(m, cm):\n",
    "    \n",
    "    tp_sum = cm[0][0].sum()\n",
    "    fp_sum = cm[1][0].sum()\n",
    "    tn_sum = cm[1][1].sum()\n",
    "    fn_sum = cm[0][1].sum()\n",
    "    \n",
    "    tp_rate = tp_sum /(tp_sum + fn_sum)\n",
    "    fp_rate = fp_sum /(fp_sum + tn_sum)\n",
    "    arr_rate = (tp_sum + tn_sum) / (tp_sum+fp_sum+tn_sum+fn_sum)\n",
    "    recall_rate = tp_sum/(tp_sum+fn_sum)\n",
    "    precision_rate = tp_sum/(tp_sum+fp_sum)\n",
    "    f1 = 2 * precision_rate * recall_rate / (precision_rate + recall_rate)\n",
    "  \n",
    "    print(\"{:6} ACC: {:.2f}   TP: {:.2f}   FP: {:.2f}\"\n",
    "          .format(m, arr_rate, tp_rate, fp_rate, recall_rate, precision_rate, f1)) "
   ]
  },
  {
   "cell_type": "code",
   "execution_count": 188,
   "metadata": {},
   "outputs": [
    {
     "name": "stdout",
     "output_type": "stream",
     "text": [
      "=======\n",
      "kNN    ACC: 0.70   TP: 0.87   FP: 0.73\n",
      "resample..\n",
      "kNN    ACC: 0.58   TP: 0.62   FP: 0.50\n",
      "=======\n",
      "dTree  ACC: 0.69   TP: 0.82   FP: 0.64\n",
      "resample..\n",
      "dTree  ACC: 0.65   TP: 0.71   FP: 0.50\n",
      "=======\n",
      "LogR   ACC: 0.71   TP: 0.91   FP: 0.77\n",
      "resample..\n",
      "LogR   ACC: 0.60   TP: 0.65   FP: 0.55\n",
      "=======\n",
      "gbc    ACC: 0.68   TP: 0.85   FP: 0.77\n",
      "resample..\n",
      "gbc    ACC: 0.61   TP: 0.69   FP: 0.59\n"
     ]
    }
   ],
   "source": [
    "ori_d = {}\n",
    "sm_d = {}\n",
    "\n",
    "acc_d = {}\n",
    "sm_acc_d = {}\n",
    "\n",
    "for i, m in enumerate(models):\n",
    "    \n",
    "    y_pred = m.fit(X_train, y_train).predict(X_test)\n",
    "    y_sm_pred = m.fit(X_train_res, y_train_res).predict(X_test)\n",
    "    \n",
    "    cm = confusion_matrix(y_test, y_pred, labels=classes)\n",
    "    sm_cm = confusion_matrix(y_test, y_sm_pred, labels=classes)\n",
    "    \n",
    "    ori_d[m_names[i]] = Counter(y_pred)['L5']\n",
    "    sm_d[m_names[i]] = Counter(y_sm_pred)['L5']\n",
    "    \n",
    "    acc_d[m_names[i]] = accuracy_score(y_test, y_pred)\n",
    "    sm_acc_d[m_names[i]] = accuracy_score(y_test, y_sm_pred)\n",
    "    \n",
    "    print(\"=======\")\n",
    "    print_eveluations(m_names[i], cm) \n",
    "    print('resample..')\n",
    "    print_eveluations(m_names[i], sm_cm) "
   ]
  },
  {
   "cell_type": "code",
   "execution_count": 189,
   "metadata": {},
   "outputs": [
    {
     "data": {
      "image/png": "[encoded data removed]",
      "text/plain": [
       "<Figure size 432x288 with 1 Axes>"
      ]
     },
     "metadata": {
      "needs_background": "light"
     },
     "output_type": "display_data"
    }
   ],
   "source": [
    "import matplotlib.pyplot as plt \n",
    "import numpy as np\n",
    "%matplotlib inline \n",
    "\n",
    "fig, ax = plt.subplots()\n",
    "width = 0.3\n",
    "\n",
    "# Add the prior figures to the data for plotting\n",
    "objects = ['Prior'] + list(ori_d.keys())\n",
    "positive = [ Counter(y_test)['L5']] + list(ori_d.values())\n",
    "res = [ Counter(y_test)['L5']] + list(sm_d.values())\n",
    "\n",
    "y_pos = np.arange(len(objects))\n",
    "\n",
    "p1 = ax.bar(y_pos-width, positive, width, align='center', \n",
    "            color=['red', 'blue', 'blue','blue','blue'],alpha=0.5)\n",
    "\n",
    "p2 = ax.bar(y_pos, res, width, align='center', \n",
    "            color=['red', 'g','g','g','g'],alpha=0.5)\n",
    "\n",
    "\n",
    "ax.legend((p1[1], p2[1]), ('Raw', 'SMOTE'))\n",
    "\n",
    "plt.xticks(y_pos, objects)\n",
    "plt.ylabel('L5 Counts in test set')\n",
    "plt.title('Impact of Upsampling')\n",
    " \n",
    "plt.show()"
   ]
  },
  {
   "cell_type": "code",
   "execution_count": 190,
   "metadata": {},
   "outputs": [
    {
     "data": {
      "image/png": "[encoded data removed]",
      "text/plain": [
       "<Figure size 432x288 with 1 Axes>"
      ]
     },
     "metadata": {
      "needs_background": "light"
     },
     "output_type": "display_data"
    }
   ],
   "source": [
    "fig, ax = plt.subplots()\n",
    "\n",
    "objects =  list(acc_d.keys())\n",
    "before =   list(acc_d.values())\n",
    "after =  list(sm_acc_d.values())\n",
    "y_pos = np.arange(len(objects))\n",
    "p1 = ax.bar(y_pos, before, width, align='center', \n",
    "            color=['blue', 'blue','blue','blue'],alpha=0.5)\n",
    "p2 = ax.bar(y_pos+width, after, width, align='center', \n",
    "            color=['g','g','g','g'],alpha=0.5)\n",
    "ax.legend((p1[1], p2[1]), ('Raw', 'SMOTE'))\n",
    "plt.xticks(y_pos, objects)\n",
    "plt.ylabel('Accuracy')\n",
    "plt.title('Impact of Upsampling')\n",
    "plt.show()"
   ]
  },
  {
   "cell_type": "markdown",
   "metadata": {},
   "source": [
    "### 2. Use a Pipeline to repeat this evaluation using cross validation."
   ]
  },
  {
   "cell_type": "code",
   "execution_count": 191,
   "metadata": {},
   "outputs": [],
   "source": [
    "from imblearn.pipeline import Pipeline \n",
    "from sklearn.preprocessing import StandardScaler\n",
    "from sklearn.model_selection import GridSearchCV"
   ]
  },
  {
   "cell_type": "code",
   "execution_count": 192,
   "metadata": {},
   "outputs": [],
   "source": [
    "kNN = KNeighborsClassifier()\n",
    "dtree = DecisionTreeClassifier()\n",
    "logR = LogisticRegression()\n",
    "gbc = GradientBoostingClassifier()\n",
    "\n",
    "models = [kNN, dtree, logR, gbc]"
   ]
  },
  {
   "cell_type": "markdown",
   "metadata": {},
   "source": [
    "#### Run pipeline - once time"
   ]
  },
  {
   "cell_type": "code",
   "execution_count": 193,
   "metadata": {},
   "outputs": [
    {
     "name": "stdout",
     "output_type": "stream",
     "text": [
      "kNN    ACC: 0.58   TP: 0.63   FP: 0.54\n",
      "dTree  ACC: 0.60   TP: 0.68   FP: 0.63\n",
      "LogR   ACC: 0.72   TP: 0.79   FP: 0.47\n",
      "gbc    ACC: 0.54   TP: 0.61   FP: 0.65\n"
     ]
    }
   ],
   "source": [
    "acc_once = []\n",
    "for i, m in enumerate(models):\n",
    "    \n",
    "    smt = SMOTE(random_state=42)\n",
    "    pipeline = Pipeline([\n",
    "        ('smt', smt),\n",
    "        ('classifier', m)])\n",
    "    \n",
    "    y_pred = cross_val_predict(pipeline, X, y, cv=30)\n",
    "    acc = accuracy_score(y, y_pred)\n",
    "    acc_once.append(acc)\n",
    "    cm = confusion_matrix(y, y_pred, labels=classes)\n",
    "    print_eveluations(m_names[i], cm) "
   ]
  },
  {
   "cell_type": "markdown",
   "metadata": {},
   "source": [
    "#### Pipeline -  multiple times"
   ]
  },
  {
   "cell_type": "code",
   "execution_count": 194,
   "metadata": {},
   "outputs": [
    {
     "name": "stdout",
     "output_type": "stream",
     "text": [
      "mean accuracy:\n",
      "kNN    0.61\n",
      "dTree  0.62\n",
      "LogR   0.73\n",
      "gbc    0.62\n"
     ]
    }
   ],
   "source": [
    "acc_pip = {'kNN':[], 'dTree':[], 'LogR':[], 'gbc':[]}\n",
    "acc_pip_mean = {}\n",
    "print(\"mean accuracy:\")\n",
    "\n",
    "for i, m in enumerate(models):\n",
    "    for j in range(1, 50):\n",
    "        smt = SMOTE(random_state=42)\n",
    "        pipeline = Pipeline([\n",
    "            ('smt', smt),\n",
    "            ('classifier', m)])\n",
    "\n",
    "        y_pred = cross_val_predict(pipeline, X, y, cv=20)\n",
    "        acc = accuracy_score(y, y_pred)\n",
    "        acc_pip[m_names[i]].append(acc)\n",
    "    \n",
    "    acc_pip_mean[m_names[i]] = np.mean(acc_pip[m_names[i]])\n",
    "    print(\"{:6} {:.2f}\".format(m_names[i], np.mean(acc_pip[m_names[i]])))"
   ]
  },
  {
   "cell_type": "code",
   "execution_count": 195,
   "metadata": {},
   "outputs": [
    {
     "data": {
      "text/plain": [
       "Text(0.5, 1.0, 'Accuracy with 4 classifier (pipeline)')"
      ]
     },
     "execution_count": 195,
     "metadata": {},
     "output_type": "execute_result"
    },
    {
     "data": {
      "image/png": "[encoded data removed]",
      "text/plain": [
       "<Figure size 432x288 with 1 Axes>"
      ]
     },
     "metadata": {
      "needs_background": "light"
     },
     "output_type": "display_data"
    }
   ],
   "source": [
    "df = pd.DataFrame()\n",
    "for m_name in m_names:\n",
    "    df[m_name] = acc_pip[m_name]\n",
    "%matplotlib inline\n",
    "ax = df.plot()\n",
    "ax.set_xlabel(\"Iteration\")\n",
    "ax.set_ylabel(\"Accuracy\")\n",
    "ax.set_title(\"Accuracy with 4 classifier (pipeline)\")"
   ]
  },
  {
   "cell_type": "code",
   "execution_count": 199,
   "metadata": {},
   "outputs": [
    {
     "data": {
      "image/png": "[encoded data removed]",
      "text/plain": [
       "<Figure size 432x288 with 1 Axes>"
      ]
     },
     "metadata": {
      "needs_background": "light"
     },
     "output_type": "display_data"
    }
   ],
   "source": [
    "fig, ax = plt.subplots()\n",
    "\n",
    "objects =  list(sm_acc_d.keys())\n",
    "sm =  list(after)\n",
    "pip_mean =  list(acc_pip_mean.values())\n",
    "pip_gs_mean =  list(acc_pip_gs_mean.values())\n",
    "\n",
    "y_pos = np.arange(len(objects))\n",
    "p1 = ax.bar(y_pos, sm, width, align='center', \n",
    "            color=['blue', 'blue','blue','blue'],alpha=0.5)\n",
    "p2 = ax.bar(y_pos+width, acc_once, width, align='center', \n",
    "            color=['g','g','g','g'],alpha=0.5)\n",
    "p3 = ax.bar(y_pos+width+width, pip_mean, width, align='center', \n",
    "            color=['orange','orange','orange','orange'],alpha=0.5)\n",
    "\n",
    "ax.set_ylim([0,1])\n",
    "\n",
    "ax.legend((p1[1], p2[1], p3[1]), ('holdout', 'pipeline(1 time)', 'pipeline(50 time)'))\n",
    "plt.xticks(y_pos, objects)\n",
    "plt.ylabel('Accuracy')\n",
    "plt.title('Impact of pipeline and hyperparameters')\n",
    "plt.show()"
   ]
  },
  {
   "cell_type": "markdown",
   "metadata": {},
   "source": [
    "### pipeline  + Grid Search "
   ]
  },
  {
   "cell_type": "code",
   "execution_count": 24,
   "metadata": {},
   "outputs": [
    {
     "name": "stdout",
     "output_type": "stream",
     "text": [
      "KNeighborsClassifier(metric='euclidean', n_neighbors=1)\n",
      "kNN    0.67\n",
      "DecisionTreeClassifier(criterion='entropy', max_leaf_nodes=6)\n",
      "dTree  0.70\n",
      "LogisticRegression()\n",
      "LogR   0.72\n",
      "GradientBoostingClassifier(max_leaf_nodes=2)\n",
      "gbc    0.64\n"
     ]
    }
   ],
   "source": [
    "acc_pip_gs = {'kNN':[], 'dTree':[], 'LogR':[], 'gbc':[]}\n",
    "acc_pip_gs_mean = {}\n",
    "for i, m in enumerate(models):\n",
    "    smt = SMOTE(random_state=42)\n",
    "    pipeline = Pipeline([\n",
    "        ('scaler', StandardScaler()),\n",
    "        ('smt', smt),\n",
    "        ('classifier', m)])\n",
    "\n",
    "    # hyperparameters\n",
    "    parms = {'kNN': \n",
    "             {'classifier__n_neighbors':[1,3,5,10],\n",
    "              'classifier__metric':['manhattan','euclidean']},\n",
    "             'dTree': \n",
    "             {'classifier__criterion':['gini', 'entropy'],\n",
    "              'classifier__max_leaf_nodes': [2,4,6,8,10]},\n",
    "             'LogR':\n",
    "             {'classifier__fit_intercept':[True, False],\n",
    "              'classifier__solver': ['lbfgs', 'liblinear']},\n",
    "             'gbc': \n",
    "             {'classifier__max_leaf_nodes':[2,4,6,8,10]}}\n",
    "\n",
    "\n",
    "    gs = GridSearchCV(pipeline, parms[m_names[i]], cv=10)\n",
    "    gs.fit(X, y)\n",
    "\n",
    "    y_pred = cross_val_predict(gs, X, y, cv=10)\n",
    "    acc = accuracy_score(y, y_pred)\n",
    "    acc_pip_gs[m_names[i]].append(acc)\n",
    "\n",
    "    acc_pip_gs_mean[m_names[i]] = np.mean(acc_pip_gs[m_names[i]])\n",
    "    print(gs.best_estimator_.get_params()['classifier'])\n",
    "    print(\"{:6} {:.2f}\".format(m_names[i], np.mean(acc_pip_gs[m_names[i]])))"
   ]
  },
  {
   "cell_type": "code",
   "execution_count": 25,
   "metadata": {},
   "outputs": [
    {
     "data": {
      "image/png": "[encoded data removed]",
      "text/plain": [
       "<Figure size 432x288 with 1 Axes>"
      ]
     },
     "metadata": {
      "needs_background": "light"
     },
     "output_type": "display_data"
    }
   ],
   "source": [
    "fig, ax = plt.subplots()\n",
    "\n",
    "objects =  list(sm_acc_d.keys())\n",
    "sm =  list(sm_acc_d.values())\n",
    "pip_mean =  list(acc_pip_mean.values())\n",
    "pip_gs_mean =  list(acc_pip_gs_mean.values())\n",
    "\n",
    "y_pos = np.arange(len(objects))\n",
    "p1 = ax.bar(y_pos, sm, width, align='center', \n",
    "            color=['blue', 'blue','blue','blue'],alpha=0.5)\n",
    "p2 = ax.bar(y_pos+width, pip_mean, width, align='center', \n",
    "            color=['g','g','g','g'],alpha=0.5)\n",
    "p3 = ax.bar(y_pos+width+width, pip_gs_mean, width, align='center', \n",
    "            color=['orange','orange','orange','orange'],alpha=0.5)\n",
    "\n",
    "ax.set_ylim([0,1])\n",
    "\n",
    "ax.legend((p1[1], p2[1], p3[1]), ('hold-out', 'pipeline', 'pipeline+GS'))\n",
    "plt.xticks(y_pos, objects)\n",
    "plt.ylabel('Accuracy')\n",
    "plt.title('Impact of pipeline and hyperparameters')\n",
    "plt.show()"
   ]
  },
  {
   "cell_type": "code",
   "execution_count": null,
   "metadata": {},
   "outputs": [],
   "source": []
  },
  {
   "cell_type": "markdown",
   "metadata": {},
   "source": [
    "# 2. Feature Selection\n",
    "\n",
    "The objective of this exercise is to assess the impact of feature selection on training and test datasets.\n",
    "Two datasets accompany this assignment, heart-train.csv and heart-test.csv. The idea is to identify a good feature subset using the training dataset and test this subset on the test data. In preparing your submission, you should focus on explaining discrepancies between train and test performance rather than maximising performance."
   ]
  },
  {
   "cell_type": "markdown",
   "metadata": {},
   "source": [
    "### 1. Use Gradient Boosting as your classifier"
   ]
  },
  {
   "cell_type": "code",
   "execution_count": 26,
   "metadata": {},
   "outputs": [
    {
     "data": {
      "text/plain": [
       "0    135\n",
       "1     64\n",
       "Name: DEATH_EVENT, dtype: int64"
      ]
     },
     "execution_count": 26,
     "metadata": {},
     "output_type": "execute_result"
    }
   ],
   "source": [
    "heart_train = pd.read_csv('heart-train.csv')\n",
    "heart_train['DEATH_EVENT'].value_counts() "
   ]
  },
  {
   "cell_type": "code",
   "execution_count": 27,
   "metadata": {},
   "outputs": [
    {
     "data": {
      "text/plain": [
       "Index(['age', 'anaemia', 'creatinine_phosphokinase', 'diabetes',\n",
       "       'ejection_fraction', 'high_blood_pressure', 'platelets',\n",
       "       'serum_creatinine', 'serum_sodium', 'sex', 'smoking', 'time',\n",
       "       'DEATH_EVENT'],\n",
       "      dtype='object')"
      ]
     },
     "execution_count": 27,
     "metadata": {},
     "output_type": "execute_result"
    }
   ],
   "source": [
    "features = heart_train.columns\n",
    "features"
   ]
  },
  {
   "cell_type": "code",
   "execution_count": 28,
   "metadata": {},
   "outputs": [
    {
     "data": {
      "text/html": [
       "<div>\n",
       "<style scoped>\n",
       "    .dataframe tbody tr th:only-of-type {\n",
       "        vertical-align: middle;\n",
       "    }\n",
       "\n",
       "    .dataframe tbody tr th {\n",
       "        vertical-align: top;\n",
       "    }\n",
       "\n",
       "    .dataframe thead th {\n",
       "        text-align: right;\n",
       "    }\n",
       "</style>\n",
       "<table border=\"1\" class=\"dataframe\">\n",
       "  <thead>\n",
       "    <tr style=\"text-align: right;\">\n",
       "      <th></th>\n",
       "      <th>age</th>\n",
       "      <th>anaemia</th>\n",
       "      <th>creatinine_phosphokinase</th>\n",
       "      <th>diabetes</th>\n",
       "      <th>ejection_fraction</th>\n",
       "      <th>high_blood_pressure</th>\n",
       "      <th>platelets</th>\n",
       "      <th>serum_creatinine</th>\n",
       "      <th>serum_sodium</th>\n",
       "      <th>sex</th>\n",
       "      <th>smoking</th>\n",
       "      <th>time</th>\n",
       "      <th>DEATH_EVENT</th>\n",
       "    </tr>\n",
       "  </thead>\n",
       "  <tbody>\n",
       "    <tr>\n",
       "      <th>0</th>\n",
       "      <td>60.0</td>\n",
       "      <td>0</td>\n",
       "      <td>253</td>\n",
       "      <td>0</td>\n",
       "      <td>35</td>\n",
       "      <td>0</td>\n",
       "      <td>279000.00</td>\n",
       "      <td>1.70</td>\n",
       "      <td>140</td>\n",
       "      <td>1</td>\n",
       "      <td>0</td>\n",
       "      <td>250</td>\n",
       "      <td>0</td>\n",
       "    </tr>\n",
       "    <tr>\n",
       "      <th>1</th>\n",
       "      <td>40.0</td>\n",
       "      <td>1</td>\n",
       "      <td>129</td>\n",
       "      <td>0</td>\n",
       "      <td>35</td>\n",
       "      <td>0</td>\n",
       "      <td>255000.00</td>\n",
       "      <td>0.90</td>\n",
       "      <td>137</td>\n",
       "      <td>1</td>\n",
       "      <td>0</td>\n",
       "      <td>209</td>\n",
       "      <td>0</td>\n",
       "    </tr>\n",
       "    <tr>\n",
       "      <th>2</th>\n",
       "      <td>86.0</td>\n",
       "      <td>0</td>\n",
       "      <td>582</td>\n",
       "      <td>0</td>\n",
       "      <td>38</td>\n",
       "      <td>0</td>\n",
       "      <td>263358.03</td>\n",
       "      <td>1.83</td>\n",
       "      <td>134</td>\n",
       "      <td>0</td>\n",
       "      <td>0</td>\n",
       "      <td>95</td>\n",
       "      <td>1</td>\n",
       "    </tr>\n",
       "    <tr>\n",
       "      <th>3</th>\n",
       "      <td>45.0</td>\n",
       "      <td>0</td>\n",
       "      <td>582</td>\n",
       "      <td>0</td>\n",
       "      <td>35</td>\n",
       "      <td>0</td>\n",
       "      <td>385000.00</td>\n",
       "      <td>1.00</td>\n",
       "      <td>145</td>\n",
       "      <td>1</td>\n",
       "      <td>0</td>\n",
       "      <td>61</td>\n",
       "      <td>1</td>\n",
       "    </tr>\n",
       "    <tr>\n",
       "      <th>4</th>\n",
       "      <td>72.0</td>\n",
       "      <td>0</td>\n",
       "      <td>127</td>\n",
       "      <td>1</td>\n",
       "      <td>50</td>\n",
       "      <td>1</td>\n",
       "      <td>218000.00</td>\n",
       "      <td>1.00</td>\n",
       "      <td>134</td>\n",
       "      <td>1</td>\n",
       "      <td>0</td>\n",
       "      <td>33</td>\n",
       "      <td>0</td>\n",
       "    </tr>\n",
       "  </tbody>\n",
       "</table>\n",
       "</div>"
      ],
      "text/plain": [
       "    age  anaemia  creatinine_phosphokinase  diabetes  ejection_fraction  \\\n",
       "0  60.0        0                       253         0                 35   \n",
       "1  40.0        1                       129         0                 35   \n",
       "2  86.0        0                       582         0                 38   \n",
       "3  45.0        0                       582         0                 35   \n",
       "4  72.0        0                       127         1                 50   \n",
       "\n",
       "   high_blood_pressure  platelets  serum_creatinine  serum_sodium  sex  \\\n",
       "0                    0  279000.00              1.70           140    1   \n",
       "1                    0  255000.00              0.90           137    1   \n",
       "2                    0  263358.03              1.83           134    0   \n",
       "3                    0  385000.00              1.00           145    1   \n",
       "4                    1  218000.00              1.00           134    1   \n",
       "\n",
       "   smoking  time  DEATH_EVENT  \n",
       "0        0   250            0  \n",
       "1        0   209            0  \n",
       "2        0    95            1  \n",
       "3        0    61            1  \n",
       "4        0    33            0  "
      ]
     },
     "execution_count": 28,
     "metadata": {},
     "output_type": "execute_result"
    }
   ],
   "source": [
    "heart_train.head()"
   ]
  },
  {
   "cell_type": "code",
   "execution_count": 29,
   "metadata": {},
   "outputs": [
    {
     "data": {
      "text/plain": [
       "((199, 12), (199,))"
      ]
     },
     "execution_count": 29,
     "metadata": {},
     "output_type": "execute_result"
    }
   ],
   "source": [
    "y_train = heart_train.pop('DEATH_EVENT').values\n",
    "X_train = heart_train.values\n",
    "X_train.shape, y_train.shape"
   ]
  },
  {
   "cell_type": "code",
   "execution_count": 30,
   "metadata": {},
   "outputs": [],
   "source": [
    "# sm = SMOTE(random_state=42)\n",
    "# X_train, y_train = sm.fit_sample(X_train, y_train)"
   ]
  },
  {
   "cell_type": "code",
   "execution_count": 31,
   "metadata": {},
   "outputs": [
    {
     "data": {
      "text/plain": [
       "((100, 12), (100,))"
      ]
     },
     "execution_count": 31,
     "metadata": {},
     "output_type": "execute_result"
    }
   ],
   "source": [
    "heart_test = pd.read_csv('heart-test.csv')\n",
    "y_test = heart_test.pop('DEATH_EVENT').values\n",
    "X_test = heart_test.values\n",
    "X_test.shape, y_test.shape"
   ]
  },
  {
   "cell_type": "code",
   "execution_count": 32,
   "metadata": {},
   "outputs": [],
   "source": [
    "gbc = GradientBoostingClassifier(random_state=42, max_leaf_nodes=6)"
   ]
  },
  {
   "cell_type": "code",
   "execution_count": 34,
   "metadata": {},
   "outputs": [],
   "source": [
    "# heart_train.boxplot(['serum_creatinine'])"
   ]
  },
  {
   "cell_type": "markdown",
   "metadata": {},
   "source": [
    "This is imbalanced dataset"
   ]
  },
  {
   "cell_type": "markdown",
   "metadata": {},
   "source": [
    "### Baseline \n",
    "#### Result of training data (cross validation) & Result of testing data (hold-out)"
   ]
  },
  {
   "cell_type": "code",
   "execution_count": 35,
   "metadata": {},
   "outputs": [
    {
     "name": "stdout",
     "output_type": "stream",
     "text": [
      "Accuracy with all features:\n",
      "train data acc (xval)  :  0.8292814814814815\n",
      "test data acc (holdout):  0.8499999999999993\n"
     ]
    }
   ],
   "source": [
    "train_xv = []\n",
    "test_hold = []\n",
    "\n",
    "gbc = gbc.fit(X_train, y_train)\n",
    "    \n",
    "for i in range(100):\n",
    "    \n",
    "    # testing with training data\n",
    "    cv = ShuffleSplit(n_splits=10, test_size=0.5, random_state=i)\n",
    "    scores = cross_val_score(gbc, X_train, y_train, cv=cv)\n",
    "    train_xv.append(scores.mean())\n",
    "    \n",
    "    y_pred = gbc.predict(X_test)\n",
    "    acc = accuracy_score(y_test, y_pred)\n",
    "    test_hold.append(acc)\n",
    "    \n",
    "mean_xv = sum(train_xv) / len(train_xv)\n",
    "mean_test_hold = sum(test_hold) / len(test_hold)\n",
    "print(\"Accuracy with all features:\")\n",
    "print(\"train data acc (xval)  : \", mean_xv)\n",
    "print(\"test data acc (holdout): \", mean_test_hold)"
   ]
  },
  {
   "cell_type": "markdown",
   "metadata": {},
   "source": [
    "### Feature Scoring - Information Gain"
   ]
  },
  {
   "cell_type": "code",
   "execution_count": 36,
   "metadata": {},
   "outputs": [
    {
     "data": {
      "text/plain": [
       "array([0.1218533 , 0.0857494 , 0.06604984, 0.11608862, 0.21272276,\n",
       "       0.13266829, 0.02465614, 0.16078039, 0.1398368 , 0.04963426,\n",
       "       0.07729296, 0.26798417])"
      ]
     },
     "execution_count": 36,
     "metadata": {},
     "output_type": "execute_result"
    }
   ],
   "source": [
    "i_scores = mutual_info_classif(X_train, y_train)\n",
    "i_scores"
   ]
  },
  {
   "cell_type": "code",
   "execution_count": 37,
   "metadata": {},
   "outputs": [],
   "source": [
    "mi = dict()\n",
    "for i,j in zip(heart_train.columns, i_scores):\n",
    "    mi[i]=j"
   ]
  },
  {
   "cell_type": "code",
   "execution_count": 38,
   "metadata": {},
   "outputs": [
    {
     "data": {
      "text/html": [
       "<div>\n",
       "<style scoped>\n",
       "    .dataframe tbody tr th:only-of-type {\n",
       "        vertical-align: middle;\n",
       "    }\n",
       "\n",
       "    .dataframe tbody tr th {\n",
       "        vertical-align: top;\n",
       "    }\n",
       "\n",
       "    .dataframe thead th {\n",
       "        text-align: right;\n",
       "    }\n",
       "</style>\n",
       "<table border=\"1\" class=\"dataframe\">\n",
       "  <thead>\n",
       "    <tr style=\"text-align: right;\">\n",
       "      <th></th>\n",
       "      <th>I-Gain</th>\n",
       "    </tr>\n",
       "  </thead>\n",
       "  <tbody>\n",
       "    <tr>\n",
       "      <th>time</th>\n",
       "      <td>0.267984</td>\n",
       "    </tr>\n",
       "    <tr>\n",
       "      <th>ejection_fraction</th>\n",
       "      <td>0.212723</td>\n",
       "    </tr>\n",
       "    <tr>\n",
       "      <th>serum_creatinine</th>\n",
       "      <td>0.160780</td>\n",
       "    </tr>\n",
       "    <tr>\n",
       "      <th>serum_sodium</th>\n",
       "      <td>0.139837</td>\n",
       "    </tr>\n",
       "    <tr>\n",
       "      <th>high_blood_pressure</th>\n",
       "      <td>0.132668</td>\n",
       "    </tr>\n",
       "    <tr>\n",
       "      <th>age</th>\n",
       "      <td>0.121853</td>\n",
       "    </tr>\n",
       "    <tr>\n",
       "      <th>diabetes</th>\n",
       "      <td>0.116089</td>\n",
       "    </tr>\n",
       "    <tr>\n",
       "      <th>anaemia</th>\n",
       "      <td>0.085749</td>\n",
       "    </tr>\n",
       "    <tr>\n",
       "      <th>smoking</th>\n",
       "      <td>0.077293</td>\n",
       "    </tr>\n",
       "    <tr>\n",
       "      <th>creatinine_phosphokinase</th>\n",
       "      <td>0.066050</td>\n",
       "    </tr>\n",
       "    <tr>\n",
       "      <th>sex</th>\n",
       "      <td>0.049634</td>\n",
       "    </tr>\n",
       "    <tr>\n",
       "      <th>platelets</th>\n",
       "      <td>0.024656</td>\n",
       "    </tr>\n",
       "  </tbody>\n",
       "</table>\n",
       "</div>"
      ],
      "text/plain": [
       "                            I-Gain\n",
       "time                      0.267984\n",
       "ejection_fraction         0.212723\n",
       "serum_creatinine          0.160780\n",
       "serum_sodium              0.139837\n",
       "high_blood_pressure       0.132668\n",
       "age                       0.121853\n",
       "diabetes                  0.116089\n",
       "anaemia                   0.085749\n",
       "smoking                   0.077293\n",
       "creatinine_phosphokinase  0.066050\n",
       "sex                       0.049634\n",
       "platelets                 0.024656"
      ]
     },
     "execution_count": 38,
     "metadata": {},
     "output_type": "execute_result"
    }
   ],
   "source": [
    "df = pd.DataFrame.from_dict(mi, orient='index', columns=['I-Gain'])\n",
    "df.sort_values(by=['I-Gain'],ascending=False,inplace=True)\n",
    "df"
   ]
  },
  {
   "cell_type": "code",
   "execution_count": 39,
   "metadata": {},
   "outputs": [
    {
     "name": "stderr",
     "output_type": "stream",
     "text": [
      "/opt/anaconda3/lib/python3.7/site-packages/ipykernel_launcher.py:8: UserWarning: FixedFormatter should only be used together with FixedLocator\n",
      "  \n"
     ]
    },
    {
     "data": {
      "image/png": "[encoded data removed]",
      "text/plain": [
       "<Figure size 432x288 with 1 Axes>"
      ]
     },
     "metadata": {
      "needs_background": "light"
     },
     "output_type": "display_data"
    }
   ],
   "source": [
    "import matplotlib.pyplot as plt\n",
    "%matplotlib inline\n",
    "\n",
    "n = len(df.index)\n",
    "rr = range(1,n)\n",
    "fig, ax = plt.subplots()\n",
    "ax.bar(df.index, df[\"I-Gain\"], label='I-Gain',width=.35)\n",
    "ax.set_xticklabels(list(df.index), rotation = 90)\n",
    "ax.set_xlabel('Features')\n",
    "ax.set_ylabel('I-Gain')\n",
    "ax.legend()\n",
    "\n",
    "plt.show()"
   ]
  },
  {
   "cell_type": "markdown",
   "metadata": {},
   "source": [
    "Everytime I run the function mutual_info_classif, will ger different IG score. "
   ]
  },
  {
   "cell_type": "markdown",
   "metadata": {},
   "source": [
    "### Run multiple time to see the iscore of all features"
   ]
  },
  {
   "cell_type": "code",
   "execution_count": 40,
   "metadata": {},
   "outputs": [],
   "source": [
    "t = 20\n",
    "ig_d = {}\n",
    "for k in range(0, t):\n",
    "    i_scores = mutual_info_classif(X_train, y_train)\n",
    "    \n",
    "    for i,j in zip(heart_train.columns, i_scores):\n",
    "        if i in ig_d:\n",
    "            ig_d[i].append(j)\n",
    "        else:\n",
    "            ig_d[i]=[j]\n"
   ]
  },
  {
   "cell_type": "code",
   "execution_count": 41,
   "metadata": {},
   "outputs": [],
   "source": [
    "df_ig = pd.DataFrame.from_dict(ig_d, orient='index')\n",
    "df_ig['ig-mean'] = df_ig.mean(axis=1)\n",
    "df_ig.sort_values(by=['ig-mean'],ascending=False,inplace=True)\n",
    "# df_ig"
   ]
  },
  {
   "cell_type": "code",
   "execution_count": 42,
   "metadata": {},
   "outputs": [
    {
     "name": "stderr",
     "output_type": "stream",
     "text": [
      "/opt/anaconda3/lib/python3.7/site-packages/ipykernel_launcher.py:6: UserWarning: FixedFormatter should only be used together with FixedLocator\n",
      "  \n",
      "/opt/anaconda3/lib/python3.7/site-packages/ipykernel_launcher.py:14: UserWarning: FixedFormatter should only be used together with FixedLocator\n",
      "  \n"
     ]
    },
    {
     "data": {
      "image/png": "[encoded data removed]",
      "text/plain": [
       "<Figure size 1008x288 with 2 Axes>"
      ]
     },
     "metadata": {
      "needs_background": "light"
     },
     "output_type": "display_data"
    }
   ],
   "source": [
    "import matplotlib.pyplot as plt\n",
    "%matplotlib inline\n",
    "\n",
    "fig, axes = plt.subplots(nrows=1, ncols=2, figsize=(14, 4))\n",
    "axes[0].bar(df.index, df[\"I-Gain\"], label='I-Gain',width=.35)\n",
    "axes[0].set_xticklabels(list(df.index), rotation = 90)\n",
    "axes[0].set_title('result of MI (run 1 time)')\n",
    "axes[0].set_xlabel('Features')\n",
    "axes[0].set_ylabel('I-Gain')\n",
    "axes[0].legend()\n",
    "\n",
    "\n",
    "axes[1].bar(df.index, df_ig[\"ig-mean\"], label='I-Gain mean',width=.35)\n",
    "axes[1].set_xticklabels(list(df_ig.index), rotation = 90)\n",
    "axes[1].set_title('result of MI (run 20 times)')\n",
    "axes[1].set_xlabel('Features')\n",
    "axes[1].set_ylabel('I-Gain')\n",
    "axes[1].legend()\n",
    "\n",
    "plt.show()"
   ]
  },
  {
   "cell_type": "markdown",
   "metadata": {},
   "source": [
    "After running multitple times, the plots show that the sequence of IG score of the top 2 features are still the same."
   ]
  },
  {
   "cell_type": "markdown",
   "metadata": {},
   "source": [
    "#### Get accuracy of different subset of features (Run once time)"
   ]
  },
  {
   "cell_type": "code",
   "execution_count": 43,
   "metadata": {},
   "outputs": [
    {
     "data": {
      "text/html": [
       "<div>\n",
       "<style scoped>\n",
       "    .dataframe tbody tr th:only-of-type {\n",
       "        vertical-align: middle;\n",
       "    }\n",
       "\n",
       "    .dataframe tbody tr th {\n",
       "        vertical-align: top;\n",
       "    }\n",
       "\n",
       "    .dataframe thead th {\n",
       "        text-align: right;\n",
       "    }\n",
       "</style>\n",
       "<table border=\"1\" class=\"dataframe\">\n",
       "  <thead>\n",
       "    <tr style=\"text-align: right;\">\n",
       "      <th></th>\n",
       "      <th>I-Gain</th>\n",
       "      <th>Cols</th>\n",
       "      <th>Accuracy</th>\n",
       "    </tr>\n",
       "  </thead>\n",
       "  <tbody>\n",
       "    <tr>\n",
       "      <th>time</th>\n",
       "      <td>0.267984</td>\n",
       "      <td>[11]</td>\n",
       "      <td>0.744444</td>\n",
       "    </tr>\n",
       "    <tr>\n",
       "      <th>ejection_fraction</th>\n",
       "      <td>0.212723</td>\n",
       "      <td>[4, 11]</td>\n",
       "      <td>0.803704</td>\n",
       "    </tr>\n",
       "    <tr>\n",
       "      <th>serum_creatinine</th>\n",
       "      <td>0.160780</td>\n",
       "      <td>[0, 4, 11]</td>\n",
       "      <td>0.788889</td>\n",
       "    </tr>\n",
       "    <tr>\n",
       "      <th>serum_sodium</th>\n",
       "      <td>0.139837</td>\n",
       "      <td>[0, 4, 7, 11]</td>\n",
       "      <td>0.840741</td>\n",
       "    </tr>\n",
       "    <tr>\n",
       "      <th>high_blood_pressure</th>\n",
       "      <td>0.132668</td>\n",
       "      <td>[4, 5, 7, 8, 11]</td>\n",
       "      <td>0.870370</td>\n",
       "    </tr>\n",
       "    <tr>\n",
       "      <th>age</th>\n",
       "      <td>0.121853</td>\n",
       "      <td>[3, 4, 5, 7, 8, 11]</td>\n",
       "      <td>0.855556</td>\n",
       "    </tr>\n",
       "    <tr>\n",
       "      <th>diabetes</th>\n",
       "      <td>0.116089</td>\n",
       "      <td>[0, 3, 4, 7, 8, 9, 11]</td>\n",
       "      <td>0.848148</td>\n",
       "    </tr>\n",
       "    <tr>\n",
       "      <th>anaemia</th>\n",
       "      <td>0.085749</td>\n",
       "      <td>[0, 3, 4, 5, 7, 8, 9, 11]</td>\n",
       "      <td>0.855556</td>\n",
       "    </tr>\n",
       "    <tr>\n",
       "      <th>smoking</th>\n",
       "      <td>0.077293</td>\n",
       "      <td>[0, 1, 3, 4, 5, 7, 8, 9, 11]</td>\n",
       "      <td>0.859259</td>\n",
       "    </tr>\n",
       "    <tr>\n",
       "      <th>creatinine_phosphokinase</th>\n",
       "      <td>0.066050</td>\n",
       "      <td>[0, 1, 3, 4, 5, 7, 8, 9, 10, 11]</td>\n",
       "      <td>0.840741</td>\n",
       "    </tr>\n",
       "    <tr>\n",
       "      <th>sex</th>\n",
       "      <td>0.049634</td>\n",
       "      <td>[0, 2, 3, 4, 5, 6, 7, 8, 9, 10, 11]</td>\n",
       "      <td>0.851852</td>\n",
       "    </tr>\n",
       "    <tr>\n",
       "      <th>platelets</th>\n",
       "      <td>0.024656</td>\n",
       "      <td>[0, 1, 2, 3, 4, 5, 6, 7, 8, 9, 10, 11]</td>\n",
       "      <td>0.859259</td>\n",
       "    </tr>\n",
       "  </tbody>\n",
       "</table>\n",
       "</div>"
      ],
      "text/plain": [
       "                            I-Gain                                    Cols  \\\n",
       "time                      0.267984                                    [11]   \n",
       "ejection_fraction         0.212723                                 [4, 11]   \n",
       "serum_creatinine          0.160780                              [0, 4, 11]   \n",
       "serum_sodium              0.139837                           [0, 4, 7, 11]   \n",
       "high_blood_pressure       0.132668                        [4, 5, 7, 8, 11]   \n",
       "age                       0.121853                     [3, 4, 5, 7, 8, 11]   \n",
       "diabetes                  0.116089                  [0, 3, 4, 7, 8, 9, 11]   \n",
       "anaemia                   0.085749               [0, 3, 4, 5, 7, 8, 9, 11]   \n",
       "smoking                   0.077293            [0, 1, 3, 4, 5, 7, 8, 9, 11]   \n",
       "creatinine_phosphokinase  0.066050        [0, 1, 3, 4, 5, 7, 8, 9, 10, 11]   \n",
       "sex                       0.049634     [0, 2, 3, 4, 5, 6, 7, 8, 9, 10, 11]   \n",
       "platelets                 0.024656  [0, 1, 2, 3, 4, 5, 6, 7, 8, 9, 10, 11]   \n",
       "\n",
       "                          Accuracy  \n",
       "time                      0.744444  \n",
       "ejection_fraction         0.803704  \n",
       "serum_creatinine          0.788889  \n",
       "serum_sodium              0.840741  \n",
       "high_blood_pressure       0.870370  \n",
       "age                       0.855556  \n",
       "diabetes                  0.848148  \n",
       "anaemia                   0.855556  \n",
       "smoking                   0.859259  \n",
       "creatinine_phosphokinase  0.840741  \n",
       "sex                       0.851852  \n",
       "platelets                 0.859259  "
      ]
     },
     "execution_count": 43,
     "metadata": {},
     "output_type": "execute_result"
    }
   ],
   "source": [
    "cols_index = []\n",
    "acc_scores = []\n",
    "for kk in range(1, X_train.shape[1]+1):\n",
    "    \n",
    "    FS_trans = SelectKBest(mutual_info_classif, \n",
    "                           k=kk).fit(X_train, y_train)\n",
    "    \n",
    "    #get selected k index\n",
    "    cols = FS_trans.get_support(indices=True)\n",
    "    cols_index.append(cols)\n",
    "    \n",
    "    # transform data\n",
    "    X_tR_new = FS_trans.transform(X_train)\n",
    "    \n",
    "    # get xval accuracy score according to different value of k\n",
    "    scores = cross_val_score(gbc, X_tR_new, y_train, cv=5, scoring='accuracy')\n",
    "    acc_scores.append(scores.mean())\n",
    "\n",
    "df['Cols'] = cols_index\n",
    "df['Accuracy'] = acc_scores\n",
    "df.head(12)"
   ]
  },
  {
   "cell_type": "code",
   "execution_count": 44,
   "metadata": {},
   "outputs": [
    {
     "name": "stderr",
     "output_type": "stream",
     "text": [
      "/opt/anaconda3/lib/python3.7/site-packages/ipykernel_launcher.py:8: UserWarning: FixedFormatter should only be used together with FixedLocator\n",
      "  \n"
     ]
    },
    {
     "data": {
      "image/png": "[encoded data removed]",
      "text/plain": [
       "<Figure size 432x288 with 2 Axes>"
      ]
     },
     "metadata": {
      "needs_background": "light"
     },
     "output_type": "display_data"
    }
   ],
   "source": [
    "import matplotlib.pyplot as plt\n",
    "%matplotlib inline\n",
    "\n",
    "fig, ax = plt.subplots()\n",
    "ax2 = ax.twinx()\n",
    "ax.bar(df.index, df[\"I-Gain\"], label='I-Gain',width=.35)\n",
    "ax2.plot(df.index, df[\"Accuracy\"], color='red', label='Accuracy')\n",
    "ax.set_xticklabels(list(df.index), rotation = 90)\n",
    "ax.set_xlabel('Features')\n",
    "ax.set_ylabel('I-Gain')\n",
    "ax2.set_ylabel('Accuracy')\n",
    "ax.legend()\n",
    "\n",
    "plt.show()"
   ]
  },
  {
   "cell_type": "markdown",
   "metadata": {},
   "source": [
    "In this experience, selecting 11 and 12 features seems like have highest accuracy which is 0.86. Next, I would like to run multiple time SelectKBest, and campare the result with the previous experience."
   ]
  },
  {
   "cell_type": "markdown",
   "metadata": {},
   "source": [
    "#### Get accuracy of different subset of features (Run multiple times)"
   ]
  },
  {
   "cell_type": "code",
   "execution_count": 45,
   "metadata": {},
   "outputs": [],
   "source": [
    "t = 20\n",
    "df_acc = pd.DataFrame()\n",
    "for k in range(0, t):  \n",
    "    \n",
    "    acc_scores = []\n",
    "    for kk in range(1, X_train.shape[1]+1):\n",
    "        \n",
    "        FS_trans = SelectKBest(mutual_info_classif, \n",
    "                           k=kk).fit(X_train, y_train)\n",
    "        X_tR_new = FS_trans.transform(X_train)\n",
    "    \n",
    "        scores = cross_val_score(gbc, X_tR_new, y_train, cv=5, scoring='accuracy')\n",
    "        acc_scores.append(scores.mean())\n",
    "    df_acc['Accuracy_'+str(k)] = acc_scores"
   ]
  },
  {
   "cell_type": "code",
   "execution_count": 46,
   "metadata": {},
   "outputs": [],
   "source": [
    "df_acc['acc-mean'] = df_acc.mean(axis=1)\n",
    "df_acc = df_acc.sort_index()\n",
    "# df_acc"
   ]
  },
  {
   "cell_type": "code",
   "execution_count": 47,
   "metadata": {},
   "outputs": [
    {
     "name": "stderr",
     "output_type": "stream",
     "text": [
      "/opt/anaconda3/lib/python3.7/site-packages/ipykernel_launcher.py:10: UserWarning: FixedFormatter should only be used together with FixedLocator\n",
      "  # Remove the CWD from sys.path while we load stuff.\n"
     ]
    },
    {
     "data": {
      "image/png": "[encoded data removed]",
      "text/plain": [
       "<Figure size 432x288 with 2 Axes>"
      ]
     },
     "metadata": {
      "needs_background": "light"
     },
     "output_type": "display_data"
    }
   ],
   "source": [
    "import matplotlib.pyplot as plt\n",
    "%matplotlib inline\n",
    "\n",
    "n = len(df.index)\n",
    "rr = range(1,n)\n",
    "fig, ax = plt.subplots()\n",
    "ax2 = ax.twinx()\n",
    "ax.bar(df.index, df_ig[\"ig-mean\"], label='I-Gain',width=.35)\n",
    "ax2.plot(df.index, df_acc['acc-mean'], color='red', label='Accuracy')\n",
    "ax.set_xticklabels(list(df.index), rotation = 90)\n",
    "ax.set_xlabel('Features')\n",
    "ax.set_ylabel('I-Gain')\n",
    "ax2.set_ylabel('Accuracy')\n",
    "ax.legend()\n",
    "\n",
    "plt.show()"
   ]
  },
  {
   "cell_type": "code",
   "execution_count": 48,
   "metadata": {},
   "outputs": [
    {
     "name": "stdout",
     "output_type": "stream",
     "text": [
      " 1 features  acc 0.74\n",
      " 2 features  acc 0.80\n",
      " 3 features  acc 0.84\n",
      " 4 features  acc 0.85\n",
      " 5 features  acc 0.85\n",
      " 6 features  acc 0.85\n",
      " 7 features  acc 0.84\n",
      " 8 features  acc 0.84\n",
      " 9 features  acc 0.85\n",
      "10 features  acc 0.86\n",
      "11 features  acc 0.86\n",
      "12 features  acc 0.86\n"
     ]
    }
   ],
   "source": [
    "for i in range(0, len(df_acc['acc-mean'])):\n",
    "#     print('{:}features acc:, df_acc['acc-mean'][i]'')\n",
    "    print(\"{:2} features  acc {:.2f}\".format(i+1, df_acc['acc-mean'][i]))"
   ]
  },
  {
   "cell_type": "markdown",
   "metadata": {},
   "source": [
    "The plot shows that there have the highest k is 4, 10, 11 and 12, which the accuracy are all 0.86. Next I would like to eveluate it with test set. "
   ]
  },
  {
   "cell_type": "code",
   "execution_count": 49,
   "metadata": {},
   "outputs": [],
   "source": [
    "selected_k = [4, 10, 11]"
   ]
  },
  {
   "cell_type": "code",
   "execution_count": 50,
   "metadata": {},
   "outputs": [],
   "source": [
    "def print_features(i, features):\n",
    "    fs = \"\"\n",
    "    for j in i: \n",
    "        fs += features[j]\n",
    "        fs += \", \"\n",
    "    print(fs)\n",
    "    "
   ]
  },
  {
   "cell_type": "code",
   "execution_count": 51,
   "metadata": {},
   "outputs": [
    {
     "name": "stdout",
     "output_type": "stream",
     "text": [
      "Selected  4 features :\n",
      "age, ejection_fraction, serum_creatinine, time, \n",
      "acc: 0.82\n",
      "\n",
      "Selected 10 features :\n",
      "age, anaemia, diabetes, ejection_fraction, high_blood_pressure, serum_creatinine, serum_sodium, sex, smoking, time, \n",
      "acc: 0.82\n",
      "\n",
      "Selected 11 features :\n",
      "age, creatinine_phosphokinase, diabetes, ejection_fraction, high_blood_pressure, platelets, serum_creatinine, serum_sodium, sex, smoking, time, \n",
      "acc: 0.82\n",
      "\n"
     ]
    }
   ],
   "source": [
    "test_acc = []\n",
    "for i in selected_k:\n",
    "    print(\"Selected {:2} features :\".format(i))\n",
    "    print_features(cols_index[i-1], features)\n",
    "    \n",
    "    # only selected k features\n",
    "    train_data = X_train[:, cols_index[i-1]]\n",
    "    test_data = X_test[:, cols_index[i-1]]\n",
    "    \n",
    "    # train model\n",
    "    gbc = gbc.fit(train_data, y_train)\n",
    "    \n",
    "    # test model\n",
    "    y_dash = gbc.predict(test_data)\n",
    "    acc = accuracy_score(y_test, y_dash)\n",
    "    test_acc.append(acc)\n",
    "    print(\"acc:\", acc)\n",
    "    print()"
   ]
  },
  {
   "cell_type": "code",
   "execution_count": 52,
   "metadata": {},
   "outputs": [
    {
     "data": {
      "text/plain": [
       "[0.82, 0.82, 0.82]"
      ]
     },
     "execution_count": 52,
     "metadata": {},
     "output_type": "execute_result"
    }
   ],
   "source": [
    "test_acc"
   ]
  },
  {
   "cell_type": "code",
   "execution_count": 131,
   "metadata": {},
   "outputs": [
    {
     "data": {
      "image/png": "[encoded data removed]",
      "text/plain": [
       "<Figure size 432x288 with 1 Axes>"
      ]
     },
     "metadata": {
      "needs_background": "light"
     },
     "output_type": "display_data"
    }
   ],
   "source": [
    "import matplotlib.pyplot as plt\n",
    "fig = plt.figure()\n",
    "ax = fig.add_axes([0,0,1,1])\n",
    "x = ['baseline(all 12 features)', '4 features', '10 features', '11 features']\n",
    "y = [mean_test_hold, \n",
    "            test_acc[0],\n",
    "            test_acc[1],\n",
    "            test_acc[2]]\n",
    "ax.bar(x, y)\n",
    "plt.show()"
   ]
  },
  {
   "cell_type": "markdown",
   "metadata": {},
   "source": [
    "Issues about filters: \n",
    " - No Model Bias\n",
    " - No Feature Dependencies"
   ]
  },
  {
   "cell_type": "markdown",
   "metadata": {},
   "source": [
    "### Wrapper"
   ]
  },
  {
   "cell_type": "code",
   "execution_count": 130,
   "metadata": {},
   "outputs": [],
   "source": [
    "from mlxtend.feature_selection import SequentialFeatureSelector as SFS"
   ]
  },
  {
   "cell_type": "code",
   "execution_count": 153,
   "metadata": {},
   "outputs": [],
   "source": [
    "gbc = GradientBoostingClassifier(random_state=42, max_leaf_nodes=6)\n",
    "feature_names = heart_train.columns\n",
    "\n",
    "sfs_backward = SFS(gbc, \n",
    "                  k_features=1, \n",
    "                  forward=False, \n",
    "                  floating=False, \n",
    "#                   verbose=1,\n",
    "                  scoring='accuracy',\n",
    "                  cv=5)\n",
    "\n",
    "sfs_backward = sfs_backward.fit(X_train, y_train,  \n",
    "                              custom_feature_names=feature_names)"
   ]
  },
  {
   "cell_type": "code",
   "execution_count": 154,
   "metadata": {},
   "outputs": [
    {
     "data": {
      "text/html": [
       "<div>\n",
       "<style scoped>\n",
       "    .dataframe tbody tr th:only-of-type {\n",
       "        vertical-align: middle;\n",
       "    }\n",
       "\n",
       "    .dataframe tbody tr th {\n",
       "        vertical-align: top;\n",
       "    }\n",
       "\n",
       "    .dataframe thead th {\n",
       "        text-align: right;\n",
       "    }\n",
       "</style>\n",
       "<table border=\"1\" class=\"dataframe\">\n",
       "  <thead>\n",
       "    <tr style=\"text-align: right;\">\n",
       "      <th></th>\n",
       "      <th>feature_idx</th>\n",
       "      <th>cv_scores</th>\n",
       "      <th>avg_score</th>\n",
       "      <th>feature_names</th>\n",
       "      <th>ci_bound</th>\n",
       "      <th>std_dev</th>\n",
       "      <th>std_err</th>\n",
       "    </tr>\n",
       "  </thead>\n",
       "  <tbody>\n",
       "    <tr>\n",
       "      <th>12</th>\n",
       "      <td>(0, 1, 2, 3, 4, 5, 6, 7, 8, 9, 10, 11)</td>\n",
       "      <td>[0.8148148148148148, 0.8518518518518519, 0.870...</td>\n",
       "      <td>0.859259</td>\n",
       "      <td>(age, anaemia, creatinine_phosphokinase, diabe...</td>\n",
       "      <td>0.0490107</td>\n",
       "      <td>0.038132</td>\n",
       "      <td>0.019066</td>\n",
       "    </tr>\n",
       "    <tr>\n",
       "      <th>11</th>\n",
       "      <td>(0, 1, 2, 4, 5, 6, 7, 8, 9, 10, 11)</td>\n",
       "      <td>[0.8333333333333334, 0.8888888888888888, 0.870...</td>\n",
       "      <td>0.874074</td>\n",
       "      <td>(age, anaemia, creatinine_phosphokinase, eject...</td>\n",
       "      <td>0.0530089</td>\n",
       "      <td>0.0412427</td>\n",
       "      <td>0.0206213</td>\n",
       "    </tr>\n",
       "    <tr>\n",
       "      <th>10</th>\n",
       "      <td>(0, 1, 2, 4, 6, 7, 8, 9, 10, 11)</td>\n",
       "      <td>[0.8333333333333334, 0.8888888888888888, 0.888...</td>\n",
       "      <td>0.877778</td>\n",
       "      <td>(age, anaemia, creatinine_phosphokinase, eject...</td>\n",
       "      <td>0.0534346</td>\n",
       "      <td>0.041574</td>\n",
       "      <td>0.020787</td>\n",
       "    </tr>\n",
       "    <tr>\n",
       "      <th>9</th>\n",
       "      <td>(1, 2, 4, 6, 7, 8, 9, 10, 11)</td>\n",
       "      <td>[0.8333333333333334, 0.8518518518518519, 0.870...</td>\n",
       "      <td>0.877778</td>\n",
       "      <td>(anaemia, creatinine_phosphokinase, ejection_f...</td>\n",
       "      <td>0.0575194</td>\n",
       "      <td>0.044752</td>\n",
       "      <td>0.022376</td>\n",
       "    </tr>\n",
       "    <tr>\n",
       "      <th>8</th>\n",
       "      <td>(2, 4, 6, 7, 8, 9, 10, 11)</td>\n",
       "      <td>[0.8333333333333334, 0.8333333333333334, 0.907...</td>\n",
       "      <td>0.877778</td>\n",
       "      <td>(creatinine_phosphokinase, ejection_fraction, ...</td>\n",
       "      <td>0.0555146</td>\n",
       "      <td>0.0431922</td>\n",
       "      <td>0.0215961</td>\n",
       "    </tr>\n",
       "    <tr>\n",
       "      <th>7</th>\n",
       "      <td>(2, 4, 6, 7, 8, 9, 11)</td>\n",
       "      <td>[0.8333333333333334, 0.8148148148148148, 0.870...</td>\n",
       "      <td>0.866667</td>\n",
       "      <td>(creatinine_phosphokinase, ejection_fraction, ...</td>\n",
       "      <td>0.057124</td>\n",
       "      <td>0.0444444</td>\n",
       "      <td>0.0222222</td>\n",
       "    </tr>\n",
       "    <tr>\n",
       "      <th>6</th>\n",
       "      <td>(2, 4, 6, 7, 9, 11)</td>\n",
       "      <td>[0.7962962962962963, 0.9074074074074074, 0.851...</td>\n",
       "      <td>0.874074</td>\n",
       "      <td>(creatinine_phosphokinase, ejection_fraction, ...</td>\n",
       "      <td>0.0645723</td>\n",
       "      <td>0.0502395</td>\n",
       "      <td>0.0251197</td>\n",
       "    </tr>\n",
       "    <tr>\n",
       "      <th>5</th>\n",
       "      <td>(2, 4, 7, 9, 11)</td>\n",
       "      <td>[0.8148148148148148, 0.8333333333333334, 0.888...</td>\n",
       "      <td>0.87037</td>\n",
       "      <td>(creatinine_phosphokinase, ejection_fraction, ...</td>\n",
       "      <td>0.058302</td>\n",
       "      <td>0.0453609</td>\n",
       "      <td>0.0226805</td>\n",
       "    </tr>\n",
       "    <tr>\n",
       "      <th>4</th>\n",
       "      <td>(4, 7, 9, 11)</td>\n",
       "      <td>[0.8148148148148148, 0.7962962962962963, 0.870...</td>\n",
       "      <td>0.851852</td>\n",
       "      <td>(ejection_fraction, serum_creatinine, sex, time)</td>\n",
       "      <td>0.0521469</td>\n",
       "      <td>0.040572</td>\n",
       "      <td>0.020286</td>\n",
       "    </tr>\n",
       "    <tr>\n",
       "      <th>3</th>\n",
       "      <td>(4, 7, 11)</td>\n",
       "      <td>[0.8333333333333334, 0.7962962962962963, 0.851...</td>\n",
       "      <td>0.851852</td>\n",
       "      <td>(ejection_fraction, serum_creatinine, time)</td>\n",
       "      <td>0.0476034</td>\n",
       "      <td>0.037037</td>\n",
       "      <td>0.0185185</td>\n",
       "    </tr>\n",
       "    <tr>\n",
       "      <th>2</th>\n",
       "      <td>(7, 11)</td>\n",
       "      <td>[0.8148148148148148, 0.7037037037037037, 0.870...</td>\n",
       "      <td>0.825926</td>\n",
       "      <td>(serum_creatinine, time)</td>\n",
       "      <td>0.0832719</td>\n",
       "      <td>0.0647884</td>\n",
       "      <td>0.0323942</td>\n",
       "    </tr>\n",
       "    <tr>\n",
       "      <th>1</th>\n",
       "      <td>(11,)</td>\n",
       "      <td>[0.7407407407407407, 0.7592592592592593, 0.722...</td>\n",
       "      <td>0.744444</td>\n",
       "      <td>(time,)</td>\n",
       "      <td>0.0178115</td>\n",
       "      <td>0.013858</td>\n",
       "      <td>0.006929</td>\n",
       "    </tr>\n",
       "  </tbody>\n",
       "</table>\n",
       "</div>"
      ],
      "text/plain": [
       "                               feature_idx  \\\n",
       "12  (0, 1, 2, 3, 4, 5, 6, 7, 8, 9, 10, 11)   \n",
       "11     (0, 1, 2, 4, 5, 6, 7, 8, 9, 10, 11)   \n",
       "10        (0, 1, 2, 4, 6, 7, 8, 9, 10, 11)   \n",
       "9            (1, 2, 4, 6, 7, 8, 9, 10, 11)   \n",
       "8               (2, 4, 6, 7, 8, 9, 10, 11)   \n",
       "7                   (2, 4, 6, 7, 8, 9, 11)   \n",
       "6                      (2, 4, 6, 7, 9, 11)   \n",
       "5                         (2, 4, 7, 9, 11)   \n",
       "4                            (4, 7, 9, 11)   \n",
       "3                               (4, 7, 11)   \n",
       "2                                  (7, 11)   \n",
       "1                                    (11,)   \n",
       "\n",
       "                                            cv_scores avg_score  \\\n",
       "12  [0.8148148148148148, 0.8518518518518519, 0.870...  0.859259   \n",
       "11  [0.8333333333333334, 0.8888888888888888, 0.870...  0.874074   \n",
       "10  [0.8333333333333334, 0.8888888888888888, 0.888...  0.877778   \n",
       "9   [0.8333333333333334, 0.8518518518518519, 0.870...  0.877778   \n",
       "8   [0.8333333333333334, 0.8333333333333334, 0.907...  0.877778   \n",
       "7   [0.8333333333333334, 0.8148148148148148, 0.870...  0.866667   \n",
       "6   [0.7962962962962963, 0.9074074074074074, 0.851...  0.874074   \n",
       "5   [0.8148148148148148, 0.8333333333333334, 0.888...   0.87037   \n",
       "4   [0.8148148148148148, 0.7962962962962963, 0.870...  0.851852   \n",
       "3   [0.8333333333333334, 0.7962962962962963, 0.851...  0.851852   \n",
       "2   [0.8148148148148148, 0.7037037037037037, 0.870...  0.825926   \n",
       "1   [0.7407407407407407, 0.7592592592592593, 0.722...  0.744444   \n",
       "\n",
       "                                        feature_names   ci_bound    std_dev  \\\n",
       "12  (age, anaemia, creatinine_phosphokinase, diabe...  0.0490107   0.038132   \n",
       "11  (age, anaemia, creatinine_phosphokinase, eject...  0.0530089  0.0412427   \n",
       "10  (age, anaemia, creatinine_phosphokinase, eject...  0.0534346   0.041574   \n",
       "9   (anaemia, creatinine_phosphokinase, ejection_f...  0.0575194   0.044752   \n",
       "8   (creatinine_phosphokinase, ejection_fraction, ...  0.0555146  0.0431922   \n",
       "7   (creatinine_phosphokinase, ejection_fraction, ...   0.057124  0.0444444   \n",
       "6   (creatinine_phosphokinase, ejection_fraction, ...  0.0645723  0.0502395   \n",
       "5   (creatinine_phosphokinase, ejection_fraction, ...   0.058302  0.0453609   \n",
       "4    (ejection_fraction, serum_creatinine, sex, time)  0.0521469   0.040572   \n",
       "3         (ejection_fraction, serum_creatinine, time)  0.0476034   0.037037   \n",
       "2                            (serum_creatinine, time)  0.0832719  0.0647884   \n",
       "1                                             (time,)  0.0178115   0.013858   \n",
       "\n",
       "      std_err  \n",
       "12   0.019066  \n",
       "11  0.0206213  \n",
       "10   0.020787  \n",
       "9    0.022376  \n",
       "8   0.0215961  \n",
       "7   0.0222222  \n",
       "6   0.0251197  \n",
       "5   0.0226805  \n",
       "4    0.020286  \n",
       "3   0.0185185  \n",
       "2   0.0323942  \n",
       "1    0.006929  "
      ]
     },
     "execution_count": 154,
     "metadata": {},
     "output_type": "execute_result"
    }
   ],
   "source": [
    "sfs_df = pd.DataFrame.from_dict(sfs_backward.get_metric_dict())\n",
    "sfs_df.T"
   ]
  },
  {
   "cell_type": "code",
   "execution_count": 155,
   "metadata": {},
   "outputs": [
    {
     "data": {
      "image/png": "[encoded data removed]",
      "text/plain": [
       "<Figure size 432x288 with 1 Axes>"
      ]
     },
     "metadata": {
      "needs_background": "light"
     },
     "output_type": "display_data"
    }
   ],
   "source": [
    "from mlxtend.plotting import plot_sequential_feature_selection as plot_sfs\n",
    "import matplotlib.pyplot as plt\n",
    "\n",
    "\n",
    "fig2 = plot_sfs(sfs_backward.get_metric_dict(), \n",
    "                ylabel='Accuracy',\n",
    "                kind='std_dev')\n",
    "\n",
    "\n",
    "plt.ylim([0.5, 1])\n",
    "plt.title('Sequential backward Selection (w. StdDev)')\n",
    "plt.grid()\n",
    "plt.show()"
   ]
  },
  {
   "cell_type": "markdown",
   "metadata": {},
   "source": [
    "When the cv is set to 5:\n",
    "- The plot shows that k with 5, 6, 8, 9, 10, 11 have highest acccuracy score, which are all 0.87. "
   ]
  },
  {
   "cell_type": "code",
   "execution_count": 148,
   "metadata": {},
   "outputs": [],
   "source": [
    "gbc = GradientBoostingClassifier(random_state=42, max_leaf_nodes=6)\n",
    "feature_names = heart_train.columns\n",
    "\n",
    "sfs_backward = SFS(gbc, \n",
    "                  k_features=1, \n",
    "                  forward=False, \n",
    "                  floating=False, \n",
    "#                   verbose=1,\n",
    "                  scoring='accuracy',\n",
    "                  cv=10)\n",
    "\n",
    "sfs_backward = sfs_backward.fit(X_train, y_train,  \n",
    "                              custom_feature_names=feature_names)"
   ]
  },
  {
   "cell_type": "code",
   "execution_count": 149,
   "metadata": {},
   "outputs": [],
   "source": [
    "# sfs_backward.subsets_"
   ]
  },
  {
   "cell_type": "code",
   "execution_count": 151,
   "metadata": {},
   "outputs": [
    {
     "data": {
      "text/html": [
       "<div>\n",
       "<style scoped>\n",
       "    .dataframe tbody tr th:only-of-type {\n",
       "        vertical-align: middle;\n",
       "    }\n",
       "\n",
       "    .dataframe tbody tr th {\n",
       "        vertical-align: top;\n",
       "    }\n",
       "\n",
       "    .dataframe thead th {\n",
       "        text-align: right;\n",
       "    }\n",
       "</style>\n",
       "<table border=\"1\" class=\"dataframe\">\n",
       "  <thead>\n",
       "    <tr style=\"text-align: right;\">\n",
       "      <th></th>\n",
       "      <th>feature_idx</th>\n",
       "      <th>cv_scores</th>\n",
       "      <th>avg_score</th>\n",
       "      <th>feature_names</th>\n",
       "      <th>ci_bound</th>\n",
       "      <th>std_dev</th>\n",
       "      <th>std_err</th>\n",
       "    </tr>\n",
       "  </thead>\n",
       "  <tbody>\n",
       "    <tr>\n",
       "      <th>12</th>\n",
       "      <td>(0, 1, 2, 3, 4, 5, 6, 7, 8, 9, 10, 11)</td>\n",
       "      <td>[0.7407407407407407, 0.8518518518518519, 0.888...</td>\n",
       "      <td>0.862963</td>\n",
       "      <td>(age, anaemia, creatinine_phosphokinase, diabe...</td>\n",
       "      <td>0.0492844</td>\n",
       "      <td>0.0663573</td>\n",
       "      <td>0.0221191</td>\n",
       "    </tr>\n",
       "    <tr>\n",
       "      <th>11</th>\n",
       "      <td>(1, 2, 3, 4, 5, 6, 7, 8, 9, 10, 11)</td>\n",
       "      <td>[0.7037037037037037, 0.8148148148148148, 0.888...</td>\n",
       "      <td>0.859259</td>\n",
       "      <td>(anaemia, creatinine_phosphokinase, diabetes, ...</td>\n",
       "      <td>0.0473264</td>\n",
       "      <td>0.0637209</td>\n",
       "      <td>0.0212403</td>\n",
       "    </tr>\n",
       "    <tr>\n",
       "      <th>10</th>\n",
       "      <td>(1, 2, 3, 4, 5, 6, 7, 8, 9, 11)</td>\n",
       "      <td>[0.7037037037037037, 0.8518518518518519, 0.888...</td>\n",
       "      <td>0.866667</td>\n",
       "      <td>(anaemia, creatinine_phosphokinase, diabetes, ...</td>\n",
       "      <td>0.0495142</td>\n",
       "      <td>0.0666667</td>\n",
       "      <td>0.0222222</td>\n",
       "    </tr>\n",
       "    <tr>\n",
       "      <th>9</th>\n",
       "      <td>(1, 2, 3, 4, 6, 7, 8, 9, 11)</td>\n",
       "      <td>[0.7407407407407407, 0.8518518518518519, 0.851...</td>\n",
       "      <td>0.87037</td>\n",
       "      <td>(anaemia, creatinine_phosphokinase, diabetes, ...</td>\n",
       "      <td>0.0447796</td>\n",
       "      <td>0.0602919</td>\n",
       "      <td>0.0200973</td>\n",
       "    </tr>\n",
       "    <tr>\n",
       "      <th>8</th>\n",
       "      <td>(2, 3, 4, 6, 7, 8, 9, 11)</td>\n",
       "      <td>[0.7407407407407407, 0.8518518518518519, 0.851...</td>\n",
       "      <td>0.87037</td>\n",
       "      <td>(creatinine_phosphokinase, diabetes, ejection_...</td>\n",
       "      <td>0.0447796</td>\n",
       "      <td>0.0602919</td>\n",
       "      <td>0.0200973</td>\n",
       "    </tr>\n",
       "    <tr>\n",
       "      <th>7</th>\n",
       "      <td>(2, 4, 6, 7, 8, 9, 11)</td>\n",
       "      <td>[0.7407407407407407, 0.8888888888888888, 0.851...</td>\n",
       "      <td>0.87037</td>\n",
       "      <td>(creatinine_phosphokinase, ejection_fraction, ...</td>\n",
       "      <td>0.0430567</td>\n",
       "      <td>0.0579721</td>\n",
       "      <td>0.019324</td>\n",
       "    </tr>\n",
       "    <tr>\n",
       "      <th>6</th>\n",
       "      <td>(2, 4, 6, 7, 9, 11)</td>\n",
       "      <td>[0.7037037037037037, 0.8888888888888888, 0.925...</td>\n",
       "      <td>0.866667</td>\n",
       "      <td>(creatinine_phosphokinase, ejection_fraction, ...</td>\n",
       "      <td>0.0524817</td>\n",
       "      <td>0.0706622</td>\n",
       "      <td>0.0235541</td>\n",
       "    </tr>\n",
       "    <tr>\n",
       "      <th>5</th>\n",
       "      <td>(4, 6, 7, 9, 11)</td>\n",
       "      <td>[0.7037037037037037, 0.8148148148148148, 0.851...</td>\n",
       "      <td>0.859259</td>\n",
       "      <td>(ejection_fraction, platelets, serum_creatinin...</td>\n",
       "      <td>0.0504228</td>\n",
       "      <td>0.06789</td>\n",
       "      <td>0.02263</td>\n",
       "    </tr>\n",
       "    <tr>\n",
       "      <th>4</th>\n",
       "      <td>(6, 7, 9, 11)</td>\n",
       "      <td>[0.7777777777777778, 0.8518518518518519, 0.814...</td>\n",
       "      <td>0.862963</td>\n",
       "      <td>(platelets, serum_creatinine, sex, time)</td>\n",
       "      <td>0.0427037</td>\n",
       "      <td>0.0574969</td>\n",
       "      <td>0.0191656</td>\n",
       "    </tr>\n",
       "    <tr>\n",
       "      <th>3</th>\n",
       "      <td>(6, 7, 11)</td>\n",
       "      <td>[0.7777777777777778, 0.8518518518518519, 0.814...</td>\n",
       "      <td>0.855556</td>\n",
       "      <td>(platelets, serum_creatinine, time)</td>\n",
       "      <td>0.0357603</td>\n",
       "      <td>0.0481481</td>\n",
       "      <td>0.0160494</td>\n",
       "    </tr>\n",
       "    <tr>\n",
       "      <th>2</th>\n",
       "      <td>(7, 11)</td>\n",
       "      <td>[0.7777777777777778, 0.8148148148148148, 0.814...</td>\n",
       "      <td>0.833333</td>\n",
       "      <td>(serum_creatinine, time)</td>\n",
       "      <td>0.025361</td>\n",
       "      <td>0.0341465</td>\n",
       "      <td>0.0113822</td>\n",
       "    </tr>\n",
       "    <tr>\n",
       "      <th>1</th>\n",
       "      <td>(11,)</td>\n",
       "      <td>[0.7037037037037037, 0.7777777777777778, 0.777...</td>\n",
       "      <td>0.748148</td>\n",
       "      <td>(time,)</td>\n",
       "      <td>0.0682728</td>\n",
       "      <td>0.0919235</td>\n",
       "      <td>0.0306412</td>\n",
       "    </tr>\n",
       "  </tbody>\n",
       "</table>\n",
       "</div>"
      ],
      "text/plain": [
       "                               feature_idx  \\\n",
       "12  (0, 1, 2, 3, 4, 5, 6, 7, 8, 9, 10, 11)   \n",
       "11     (1, 2, 3, 4, 5, 6, 7, 8, 9, 10, 11)   \n",
       "10         (1, 2, 3, 4, 5, 6, 7, 8, 9, 11)   \n",
       "9             (1, 2, 3, 4, 6, 7, 8, 9, 11)   \n",
       "8                (2, 3, 4, 6, 7, 8, 9, 11)   \n",
       "7                   (2, 4, 6, 7, 8, 9, 11)   \n",
       "6                      (2, 4, 6, 7, 9, 11)   \n",
       "5                         (4, 6, 7, 9, 11)   \n",
       "4                            (6, 7, 9, 11)   \n",
       "3                               (6, 7, 11)   \n",
       "2                                  (7, 11)   \n",
       "1                                    (11,)   \n",
       "\n",
       "                                            cv_scores avg_score  \\\n",
       "12  [0.7407407407407407, 0.8518518518518519, 0.888...  0.862963   \n",
       "11  [0.7037037037037037, 0.8148148148148148, 0.888...  0.859259   \n",
       "10  [0.7037037037037037, 0.8518518518518519, 0.888...  0.866667   \n",
       "9   [0.7407407407407407, 0.8518518518518519, 0.851...   0.87037   \n",
       "8   [0.7407407407407407, 0.8518518518518519, 0.851...   0.87037   \n",
       "7   [0.7407407407407407, 0.8888888888888888, 0.851...   0.87037   \n",
       "6   [0.7037037037037037, 0.8888888888888888, 0.925...  0.866667   \n",
       "5   [0.7037037037037037, 0.8148148148148148, 0.851...  0.859259   \n",
       "4   [0.7777777777777778, 0.8518518518518519, 0.814...  0.862963   \n",
       "3   [0.7777777777777778, 0.8518518518518519, 0.814...  0.855556   \n",
       "2   [0.7777777777777778, 0.8148148148148148, 0.814...  0.833333   \n",
       "1   [0.7037037037037037, 0.7777777777777778, 0.777...  0.748148   \n",
       "\n",
       "                                        feature_names   ci_bound    std_dev  \\\n",
       "12  (age, anaemia, creatinine_phosphokinase, diabe...  0.0492844  0.0663573   \n",
       "11  (anaemia, creatinine_phosphokinase, diabetes, ...  0.0473264  0.0637209   \n",
       "10  (anaemia, creatinine_phosphokinase, diabetes, ...  0.0495142  0.0666667   \n",
       "9   (anaemia, creatinine_phosphokinase, diabetes, ...  0.0447796  0.0602919   \n",
       "8   (creatinine_phosphokinase, diabetes, ejection_...  0.0447796  0.0602919   \n",
       "7   (creatinine_phosphokinase, ejection_fraction, ...  0.0430567  0.0579721   \n",
       "6   (creatinine_phosphokinase, ejection_fraction, ...  0.0524817  0.0706622   \n",
       "5   (ejection_fraction, platelets, serum_creatinin...  0.0504228    0.06789   \n",
       "4            (platelets, serum_creatinine, sex, time)  0.0427037  0.0574969   \n",
       "3                 (platelets, serum_creatinine, time)  0.0357603  0.0481481   \n",
       "2                            (serum_creatinine, time)   0.025361  0.0341465   \n",
       "1                                             (time,)  0.0682728  0.0919235   \n",
       "\n",
       "      std_err  \n",
       "12  0.0221191  \n",
       "11  0.0212403  \n",
       "10  0.0222222  \n",
       "9   0.0200973  \n",
       "8   0.0200973  \n",
       "7    0.019324  \n",
       "6   0.0235541  \n",
       "5     0.02263  \n",
       "4   0.0191656  \n",
       "3   0.0160494  \n",
       "2   0.0113822  \n",
       "1   0.0306412  "
      ]
     },
     "execution_count": 151,
     "metadata": {},
     "output_type": "execute_result"
    }
   ],
   "source": [
    "sfs_df = pd.DataFrame.from_dict(sfs_backward.get_metric_dict())\n",
    "sfs_df.T"
   ]
  },
  {
   "cell_type": "code",
   "execution_count": 152,
   "metadata": {},
   "outputs": [
    {
     "data": {
      "image/png": "[encoded data removed]",
      "text/plain": [
       "<Figure size 432x288 with 1 Axes>"
      ]
     },
     "metadata": {
      "needs_background": "light"
     },
     "output_type": "display_data"
    }
   ],
   "source": [
    "from mlxtend.plotting import plot_sequential_feature_selection as plot_sfs\n",
    "import matplotlib.pyplot as plt\n",
    "\n",
    "\n",
    "fig2 = plot_sfs(sfs_backward.get_metric_dict(), \n",
    "                ylabel='Accuracy',\n",
    "                kind='std_dev')\n",
    "\n",
    "\n",
    "plt.ylim([0.5, 1])\n",
    "plt.title('Sequential backward Selection (w. StdDev)')\n",
    "plt.grid()\n",
    "plt.show()\n"
   ]
  },
  {
   "cell_type": "markdown",
   "metadata": {},
   "source": [
    "When cv is set to 10:\n",
    "- The plot shows that k with 7, 8, 9 have highest acccuracy score, which are all 0.87. \n",
    "\n",
    "Since the common vlaue of selected k is 8 and 9, and they both have same accuracy which is 0.87, therefore value 8 is considering as the best value. However, Both value of 5, 6, 7, 8, 9, 10 and 11 will be eveluated to compare the result."
   ]
  },
  {
   "cell_type": "markdown",
   "metadata": {},
   "source": [
    "### Test with test data"
   ]
  },
  {
   "cell_type": "code",
   "execution_count": 143,
   "metadata": {},
   "outputs": [
    {
     "data": {
      "text/plain": [
       "0.7481481481481482"
      ]
     },
     "execution_count": 143,
     "metadata": {},
     "output_type": "execute_result"
    }
   ],
   "source": [
    "sfs_df[1].avg_score"
   ]
  },
  {
   "cell_type": "code",
   "execution_count": 156,
   "metadata": {},
   "outputs": [
    {
     "name": "stdout",
     "output_type": "stream",
     "text": [
      "Selected  5 features :\n",
      "creatinine_phosphokinase, ejection_fraction, serum_creatinine, sex, time, \n",
      "acc: 0.83\n",
      "\n",
      "Selected  6 features :\n",
      "creatinine_phosphokinase, ejection_fraction, platelets, serum_creatinine, sex, time, \n",
      "acc: 0.84\n",
      "\n",
      "Selected  7 features :\n",
      "creatinine_phosphokinase, ejection_fraction, platelets, serum_creatinine, serum_sodium, sex, time, \n",
      "acc: 0.84\n",
      "\n",
      "Selected  8 features :\n",
      "creatinine_phosphokinase, ejection_fraction, platelets, serum_creatinine, serum_sodium, sex, smoking, time, \n",
      "acc: 0.84\n",
      "\n",
      "Selected  9 features :\n",
      "anaemia, creatinine_phosphokinase, ejection_fraction, platelets, serum_creatinine, serum_sodium, sex, smoking, time, \n",
      "acc: 0.81\n",
      "\n",
      "Selected 10 features :\n",
      "age, anaemia, creatinine_phosphokinase, ejection_fraction, platelets, serum_creatinine, serum_sodium, sex, smoking, time, \n",
      "acc: 0.82\n",
      "\n",
      "Selected 11 features :\n",
      "age, anaemia, creatinine_phosphokinase, ejection_fraction, high_blood_pressure, platelets, serum_creatinine, serum_sodium, sex, smoking, time, \n",
      "acc: 0.82\n",
      "\n"
     ]
    }
   ],
   "source": [
    "selected_k = [5, 6, 7, 8, 9, 10 ,11]\n",
    "train_acc =[]\n",
    "test_acc = []\n",
    "\n",
    "for i in selected_k:\n",
    "    print(\"Selected {:2} features :\".format(i))\n",
    "    print_features(list(sfs_df[i]['feature_idx']), features)\n",
    "    train_acc.append(sfs_df[i].avg_score)\n",
    "    \n",
    "    \n",
    "    # only selected k features\n",
    "    train_data = X_train[:, cols_index[i-1]]\n",
    "    test_data = X_test[:, cols_index[i-1]]\n",
    "    \n",
    "    # train model\n",
    "    gbc = gbc.fit(train_data, y_train)\n",
    "    \n",
    "    # test model\n",
    "    y_dash = gbc.predict(test_data)\n",
    "    acc = accuracy_score(y_test, y_dash)\n",
    "    test_acc.append(acc)\n",
    "    print(\"acc:\", acc)\n",
    "    print()"
   ]
  },
  {
   "cell_type": "code",
   "execution_count": 158,
   "metadata": {},
   "outputs": [
    {
     "data": {
      "image/png": "[encoded data removed]",
      "text/plain": [
       "<Figure size 432x288 with 1 Axes>"
      ]
     },
     "metadata": {
      "needs_background": "light"
     },
     "output_type": "display_data"
    }
   ],
   "source": [
    "data = [train_acc, test_acc]\n",
    "X = np.arange(len(selected_k))\n",
    "fig = plt.figure()\n",
    "ax = fig.add_axes([0,0,1,1])\n",
    "ax.bar(X, data[0], color = 'b', width = 0.5)\n",
    "ax.bar(X, data[1], color = 'g', width = 0.5)\n",
    "ax.set_title('Accuracy score by selected features')\n",
    "ax.set_ylabel('Accuracy Score')\n",
    "ax.set_xlabel('k features')\n",
    "ax.legend(labels=['train', 'test'])\n",
    "plt.xticks(np.arange(len(selected_k)), selected_k)\n",
    "plt.show()\n"
   ]
  },
  {
   "cell_type": "code",
   "execution_count": 171,
   "metadata": {},
   "outputs": [
    {
     "data": {
      "text/html": [
       "<div>\n",
       "<style scoped>\n",
       "    .dataframe tbody tr th:only-of-type {\n",
       "        vertical-align: middle;\n",
       "    }\n",
       "\n",
       "    .dataframe tbody tr th {\n",
       "        vertical-align: top;\n",
       "    }\n",
       "\n",
       "    .dataframe thead th {\n",
       "        text-align: right;\n",
       "    }\n",
       "</style>\n",
       "<table border=\"1\" class=\"dataframe\">\n",
       "  <thead>\n",
       "    <tr style=\"text-align: right;\">\n",
       "      <th></th>\n",
       "      <th>train_acc</th>\n",
       "      <th>test_acc</th>\n",
       "      <th>k</th>\n",
       "      <th>diff</th>\n",
       "    </tr>\n",
       "  </thead>\n",
       "  <tbody>\n",
       "    <tr>\n",
       "      <th>2</th>\n",
       "      <td>0.866667</td>\n",
       "      <td>0.84</td>\n",
       "      <td>7</td>\n",
       "      <td>0.026667</td>\n",
       "    </tr>\n",
       "    <tr>\n",
       "      <th>1</th>\n",
       "      <td>0.874074</td>\n",
       "      <td>0.84</td>\n",
       "      <td>6</td>\n",
       "      <td>0.034074</td>\n",
       "    </tr>\n",
       "    <tr>\n",
       "      <th>3</th>\n",
       "      <td>0.877778</td>\n",
       "      <td>0.84</td>\n",
       "      <td>8</td>\n",
       "      <td>0.037778</td>\n",
       "    </tr>\n",
       "    <tr>\n",
       "      <th>0</th>\n",
       "      <td>0.870370</td>\n",
       "      <td>0.83</td>\n",
       "      <td>5</td>\n",
       "      <td>0.040370</td>\n",
       "    </tr>\n",
       "    <tr>\n",
       "      <th>6</th>\n",
       "      <td>0.874074</td>\n",
       "      <td>0.82</td>\n",
       "      <td>11</td>\n",
       "      <td>0.054074</td>\n",
       "    </tr>\n",
       "    <tr>\n",
       "      <th>5</th>\n",
       "      <td>0.877778</td>\n",
       "      <td>0.82</td>\n",
       "      <td>10</td>\n",
       "      <td>0.057778</td>\n",
       "    </tr>\n",
       "    <tr>\n",
       "      <th>4</th>\n",
       "      <td>0.877778</td>\n",
       "      <td>0.81</td>\n",
       "      <td>9</td>\n",
       "      <td>0.067778</td>\n",
       "    </tr>\n",
       "  </tbody>\n",
       "</table>\n",
       "</div>"
      ],
      "text/plain": [
       "   train_acc  test_acc   k      diff\n",
       "2   0.866667      0.84   7  0.026667\n",
       "1   0.874074      0.84   6  0.034074\n",
       "3   0.877778      0.84   8  0.037778\n",
       "0   0.870370      0.83   5  0.040370\n",
       "6   0.874074      0.82  11  0.054074\n",
       "5   0.877778      0.82  10  0.057778\n",
       "4   0.877778      0.81   9  0.067778"
      ]
     },
     "execution_count": 171,
     "metadata": {},
     "output_type": "execute_result"
    }
   ],
   "source": [
    "sfs_acc_df = pd.DataFrame.from_dict({'train_acc': train_acc, 'test_acc': test_acc, 'k': range(5, 12)})\n",
    "sfs_acc_df[\"diff\"] = sfs_acc_df[\"train_acc\"] - sfs_acc_df[\"test_acc\"]\n",
    "sfs_acc_df.sort_values(by=['diff'])"
   ]
  },
  {
   "cell_type": "markdown",
   "metadata": {},
   "source": [
    "The plot shows the sccuracy score comparison between testing set and training set. \n",
    "- When the value of k is 7, has highest accuracy and less difference between training and testing accuracy score, which means it has low bias and low variance.\n",
    "- When the value of k are 9, 10 and 11, the model is overfitting, because the model is too complicated."
   ]
  },
  {
   "cell_type": "code",
   "execution_count": 172,
   "metadata": {},
   "outputs": [
    {
     "data": {
      "image/png": "[encoded data removed]",
      "text/plain": [
       "<Figure size 432x288 with 1 Axes>"
      ]
     },
     "metadata": {
      "needs_background": "light"
     },
     "output_type": "display_data"
    }
   ],
   "source": [
    "fig = plt.figure()\n",
    "ax = fig.add_axes([0,0,1,1])\n",
    "x = ['baseline(all 12 features)', '7 features', '9 features', ]\n",
    "y = [mean_test_hold, \n",
    "     test_acc[2],\n",
    "     test_acc[4],]\n",
    "ax.bar(x, y)\n",
    "plt.show()"
   ]
  },
  {
   "cell_type": "code",
   "execution_count": null,
   "metadata": {},
   "outputs": [],
   "source": []
  },
  {
   "cell_type": "code",
   "execution_count": null,
   "metadata": {},
   "outputs": [],
   "source": []
  }
 ],
 "metadata": {
  "kernelspec": {
   "display_name": "Python 3",
   "language": "python",
   "name": "python3"
  },
  "language_info": {
   "codemirror_mode": {
    "name": "ipython",
    "version": 3
   },
   "file_extension": ".py",
   "mimetype": "text/x-python",
   "name": "python",
   "nbconvert_exporter": "python",
   "pygments_lexer": "ipython3",
   "version": "3.7.4"
  }
 },
 "nbformat": 4,
 "nbformat_minor": 2
}
